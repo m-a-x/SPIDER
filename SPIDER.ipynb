{
 "cells": [
  {
   "cell_type": "markdown",
   "metadata": {},
   "source": [
    "# SPIDER\n",
    "## SPam IDentifier for E-commerce Reviews"
   ]
  },
  {
   "cell_type": "code",
   "execution_count": 63,
   "metadata": {
    "ExecuteTime": {
     "end_time": "2018-05-07T22:33:03.854107Z",
     "start_time": "2018-05-07T22:33:03.851099Z"
    },
    "cell_style": "center",
    "hide_input": false,
    "init_cell": true
   },
   "outputs": [],
   "source": [
    "import re\n",
    "from datetime import datetime as dt\n",
    "from dateutil.relativedelta import relativedelta as time_ago\n",
    "from dateutil.parser import parser\n",
    "import pandas as pd\n",
    "import numpy as np\n",
    "import requests\n",
    "import string\n",
    "import random\n",
    "import os\n",
    "from selenium import webdriver\n",
    "from selenium.webdriver.common.keys import Keys\n",
    "from bs4 import BeautifulSoup as bs\n",
    "import time"
   ]
  },
  {
   "cell_type": "markdown",
   "metadata": {},
   "source": [
    "# Scraper Functions"
   ]
  },
  {
   "cell_type": "code",
   "execution_count": 64,
   "metadata": {
    "ExecuteTime": {
     "end_time": "2018-05-07T22:33:03.869147Z",
     "start_time": "2018-05-07T22:33:03.856117Z"
    },
    "code_folding": [
     0
    ],
    "init_cell": true
   },
   "outputs": [],
   "source": [
    "def make_folder(fn):\n",
    "    \"\"\"\n",
    "    Creates a folder fn if it doesn't exist\n",
    "    \"\"\"\n",
    "    if not os.path.exists(fn):\n",
    "        os.makedirs(fn)"
   ]
  },
  {
   "cell_type": "code",
   "execution_count": 65,
   "metadata": {
    "ExecuteTime": {
     "end_time": "2018-05-07T22:33:03.878169Z",
     "start_time": "2018-05-07T22:33:03.871152Z"
    },
    "code_folding": [
     0
    ],
    "init_cell": true
   },
   "outputs": [],
   "source": [
    "def make_nested_folders(folder_structure=None):\n",
    "    \"\"\"\n",
    "    folder_structure (dict):  {'outer_folder1': ['subfolders', 'of', 'outer_folder1']}\n",
    "        Creates (in current dir):\n",
    "            outer_folder1/\n",
    "                      subfolders/\n",
    "                      of/\n",
    "                      outer_folder1/\n",
    "    \"\"\"\n",
    "    if folder_structure is not None:\n",
    "        for parent_folder, children in folder_structure.items():\n",
    "            make_folder(parent_folder)\n",
    "            for child_folder in children:\n",
    "                make_folder(parent_folder + '/' + child_folder)"
   ]
  },
  {
   "cell_type": "code",
   "execution_count": 66,
   "metadata": {
    "ExecuteTime": {
     "end_time": "2018-05-07T22:33:03.886192Z",
     "start_time": "2018-05-07T22:33:03.880181Z"
    },
    "code_folding": [
     0
    ],
    "init_cell": true
   },
   "outputs": [],
   "source": [
    "def download_html(browser, asin, page_number, reason=''):\n",
    "    source = browser.page_source\n",
    "    html_fn = asin + '/html/' + str(page_number) + '_' + reason + '.html'\n",
    "    with open(html_fn, 'w', encoding='utf-8') as handler:\n",
    "        handler.write(source)"
   ]
  },
  {
   "cell_type": "code",
   "execution_count": 67,
   "metadata": {
    "ExecuteTime": {
     "end_time": "2018-05-07T22:33:03.897220Z",
     "start_time": "2018-05-07T22:33:03.888218Z"
    },
    "code_folding": [
     0
    ],
    "init_cell": true
   },
   "outputs": [],
   "source": [
    "def nap(lb=0, ub=1):\n",
    "    \"\"\"\n",
    "    sleep scrape for a randomly generated time in seconds,\n",
    "    set a lower bound (lb) and upper (ub) for the RGN.\n",
    "    meant to hopefully avoid robot checks.\n",
    "    \"\"\"\n",
    "    time.sleep(random.uniform(lb, ub))"
   ]
  },
  {
   "cell_type": "code",
   "execution_count": 128,
   "metadata": {
    "ExecuteTime": {
     "end_time": "2018-05-07T22:35:55.203928Z",
     "start_time": "2018-05-07T22:35:55.199919Z"
    },
    "code_folding": [],
    "init_cell": true
   },
   "outputs": [],
   "source": [
    "def pause_up_up(browser, current_height):\n",
    "    \"\"\"\n",
    "    another function to avoid robot checks-\n",
    "    scrolls up a random amount of pixels 3-4 times with micronaps fit in.\n",
    "    \"\"\"\n",
    "    y = current_height\n",
    "    for i in range(random.randint(3,4)):\n",
    "        y_wiggle = y - random.randint(80,140)\n",
    "        browser.execute_script(\"window.scrollTo(0, %s)\" % y_wiggle)\n",
    "        y = y_wiggle\n",
    "        nap(.3, 1.15)"
   ]
  },
  {
   "cell_type": "code",
   "execution_count": 152,
   "metadata": {
    "ExecuteTime": {
     "end_time": "2018-05-07T22:37:09.757478Z",
     "start_time": "2018-05-07T22:37:09.753470Z"
    },
    "code_folding": [],
    "init_cell": true
   },
   "outputs": [],
   "source": [
    "def control_scroll(browser):\n",
    "    scroll_heights = [151, 340, 555]\n",
    "    nap(.75, 2.2)\n",
    "    for page_y in scroll_heights:\n",
    "        print(page_y)\n",
    "        y_wiggle = page_y + random.randint(-150,100)\n",
    "        browser.execute_script(\"window.scrollTo(0, %s)\" % y_wiggle)\n",
    "        nap(.3, .8)\n",
    "        if random.randint(1,2) > 1:\n",
    "            nap(1.4, 2.6)\n",
    "        else:\n",
    "#             pause_up_up(browser, y_wiggle)\n",
    "            nap(.2, .6)"
   ]
  },
  {
   "cell_type": "code",
   "execution_count": 153,
   "metadata": {
    "ExecuteTime": {
     "end_time": "2018-05-07T22:37:09.916920Z",
     "start_time": "2018-05-07T22:37:09.913885Z"
    }
   },
   "outputs": [],
   "source": [
    "def get_already_scraped(prods_or_profs='products'):\n",
    "    if prods_or_profs[:4] == 'prod':\n",
    "        dir_contents = os.listdir(\"products\")\n",
    "    else:\n",
    "        dir_contents = os.listdir(\"profiles\")\n",
    "    return dir_contents"
   ]
  },
  {
   "cell_type": "code",
   "execution_count": 154,
   "metadata": {
    "ExecuteTime": {
     "end_time": "2018-05-07T22:37:10.070475Z",
     "start_time": "2018-05-07T22:37:10.066491Z"
    }
   },
   "outputs": [],
   "source": [
    "def finish_incomplete_scrapes():\n",
    "    already_scraped = get_already_scraped('products')\n",
    "    incomplete_asins = {}\n",
    "    for name in already_scraped:\n",
    "        data_path = \"products/\" + name + \"/raw/\"\n",
    "        for fn in os.listdir(data_path):\n",
    "            if ('ERROR' in fn) and (len(os.listdir(data_path)) == 1):\n",
    "                df = pd.read_csv(data_path + fn)\n",
    "                incomplete_asins[name] = df\n",
    "                print(name)\n",
    "    return incomplete_asins"
   ]
  },
  {
   "cell_type": "code",
   "execution_count": 155,
   "metadata": {
    "ExecuteTime": {
     "end_time": "2018-05-07T22:37:10.234929Z",
     "start_time": "2018-05-07T22:37:10.229889Z"
    }
   },
   "outputs": [],
   "source": [
    "def aggregate_data(prods_or_profs='products'):\n",
    "    already_scraped = get_already_scraped(prods_or_profs)\n",
    "    agg_data = []\n",
    "    target_is_product = prods_or_profs[:4] == 'prod'\n",
    "    clean_purl = lambda x: x.split('/ref')[0]\n",
    "\n",
    "    for name in already_scraped:\n",
    "        if target_is_product:\n",
    "            data_path = \"products/\" + name + \"/raw/complete.csv\"\n",
    "        else:\n",
    "            data_path = \"profiles/\" + name + \"/profile.csv\"\n",
    "        if os.path.exists(data_path):\n",
    "            try:\n",
    "                df = pd.read_csv(data_path)\n",
    "                if ('body' in df.columns) and ('asin' not in df.columns):\n",
    "                    df['asin'] = [name] * df.shape[0]\n",
    "                agg_data.append(df)\n",
    "            except:\n",
    "                print(name)\n",
    "\n",
    "        else:\n",
    "            print(name, 'has incomplete data')\n",
    "        \n",
    "    agg_df = pd.concat(agg_data)\n",
    "    agg_df = agg_df[~agg_df.duplicated()]\n",
    "    if target_is_product:\n",
    "        agg_df['profile_url'] = agg_df['profile_url'].apply(clean_purl)\n",
    "    else:\n",
    "        agg_df['profile_url'] = agg_df['profile_url'].apply(lambda x: x[:-1])\n",
    "    return agg_df"
   ]
  },
  {
   "cell_type": "code",
   "execution_count": 156,
   "metadata": {
    "ExecuteTime": {
     "end_time": "2018-05-07T22:37:10.390307Z",
     "start_time": "2018-05-07T22:37:10.385294Z"
    }
   },
   "outputs": [],
   "source": [
    "def scrape_sus_profiles(sus_urls):\n",
    "    all_pr = []\n",
    "    for sus_url in sus_urls:\n",
    "        browser, pr = scrape_sus_profile(sus_url)\n",
    "        all_pr.extend(pr)\n",
    "        browser.close()\n",
    "    return all_pr"
   ]
  },
  {
   "cell_type": "code",
   "execution_count": 157,
   "metadata": {
    "ExecuteTime": {
     "end_time": "2018-05-07T22:37:10.549723Z",
     "start_time": "2018-05-07T22:37:10.546714Z"
    }
   },
   "outputs": [],
   "source": [
    "def scrape_asins(asins):\n",
    "    all_rd = []\n",
    "    for asin in asins:\n",
    "        browser, rd = start_scrape(asin)\n",
    "        browser.close()\n",
    "        print('done with ', asin)\n",
    "        nap(1,2)\n",
    "        all_rd.append(rd)\n",
    "    return all_rd"
   ]
  },
  {
   "cell_type": "code",
   "execution_count": 158,
   "metadata": {
    "ExecuteTime": {
     "end_time": "2018-05-07T22:37:10.699733Z",
     "start_time": "2018-05-07T22:37:10.697727Z"
    }
   },
   "outputs": [],
   "source": [
    "# def get_sus_asins():\n",
    "#     \"\"\"do after scraping profile pages (profile_urls)\"\"\"\n",
    "#     pdf = aggregate_data('prof')\n",
    "#     adf = aggregate_data()\n",
    "    \n",
    "#     pdf_new_asins = pdf[~pdf.asin.isin(adf.asin.unique())]\n",
    "#     return pdf_new_asins"
   ]
  },
  {
   "cell_type": "code",
   "execution_count": 159,
   "metadata": {
    "ExecuteTime": {
     "end_time": "2018-05-07T22:37:10.853748Z",
     "start_time": "2018-05-07T22:37:10.850746Z"
    }
   },
   "outputs": [],
   "source": [
    "# def get_sus_profiles():\n",
    "#     \"\"\"do after scraping review pages (asins)\"\"\"\n",
    "#     pdf = aggregate_data('prof')\n",
    "#     scraped_profs = set(pdf['profile_url'].unique())\n",
    "\n",
    "#     adf = aggregate_data()\n",
    "#     adf = adf[adf['stars'] == 5]\n",
    "#     agb_asin = adf.groupby(['asin'])\n",
    "#     sus_prof_list = []\n",
    "#     for g, adf_purl in agb_asin['profile_url']:\n",
    "#         review_profs = set(adf_purl.values)\n",
    "#         overlap = scraped_profs & review_profs\n",
    "#         if (len(overlap) > 1) and (len(overlap) < len(scraped_profs)):\n",
    "#             sus_prof_list.extend(\n",
    "#                 list(review_profs - scraped_profs)\n",
    "#             )\n",
    "#     sus_profs = adf[adf['profile_url'].isin(sus_prof_list)]\n",
    "#     #     adf = adf[~adf['asin'].isin(pdf['asin'].unique())]\n",
    "#     return sus_profs"
   ]
  },
  {
   "cell_type": "markdown",
   "metadata": {},
   "source": [
    "# Review Scraper Functions"
   ]
  },
  {
   "cell_type": "code",
   "execution_count": 160,
   "metadata": {
    "ExecuteTime": {
     "end_time": "2018-05-07T22:37:11.173167Z",
     "start_time": "2018-05-07T22:37:11.169148Z"
    },
    "code_folding": [
     0
    ],
    "init_cell": true
   },
   "outputs": [],
   "source": [
    "def conjure_url(asin, page_number):\n",
    "    url = 'https://www.amazon.com/product-reviews/' + asin + '/&reviewerType=all_reviews&pageNumber=' + str(page_number)\n",
    "    return url"
   ]
  },
  {
   "cell_type": "code",
   "execution_count": 161,
   "metadata": {
    "ExecuteTime": {
     "end_time": "2018-05-07T22:37:11.341929Z",
     "start_time": "2018-05-07T22:37:11.337921Z"
    },
    "code_folding": [
     0
    ],
    "init_cell": true
   },
   "outputs": [],
   "source": [
    "def parse_helpfuls(review_soup):\n",
    "    try:\n",
    "        num_helpfuls = review_soup.find('span',\n",
    "                                        {\n",
    "                                            'data-hook': 'helpful-vote-statement'}\n",
    "                                        ).text.strip().split(' ')[0]\n",
    "        if len(num_helpfuls) > 2:\n",
    "            num_helpfuls = 1\n",
    "        else:\n",
    "            num_helpfuls = int(num_helpfuls)\n",
    "    except (AttributeError, ValueError):\n",
    "        num_helpfuls = 0\n",
    "    return num_helpfuls"
   ]
  },
  {
   "cell_type": "code",
   "execution_count": 162,
   "metadata": {
    "ExecuteTime": {
     "end_time": "2018-05-07T22:37:11.502249Z",
     "start_time": "2018-05-07T22:37:11.497237Z"
    },
    "code_folding": [
     0
    ],
    "init_cell": true
   },
   "outputs": [],
   "source": [
    "def get_profile_url(review_soup):\n",
    "    try:\n",
    "        author_block = review_soup.find('span', {'data-hook': 'review-author', 'class': 'a-size-base'})\n",
    "        author_name = author_block.findChildren()[-1]\n",
    "        profile_url = author_name['href']\n",
    "    except:\n",
    "        print('profile url: something went wrong!')\n",
    "        return False\n",
    "    return profile_url"
   ]
  },
  {
   "cell_type": "code",
   "execution_count": 163,
   "metadata": {
    "ExecuteTime": {
     "end_time": "2018-05-07T22:37:11.665125Z",
     "start_time": "2018-05-07T22:37:11.659085Z"
    },
    "code_folding": [
     0
    ],
    "init_cell": true
   },
   "outputs": [],
   "source": [
    "def parse_review_page(soup):\n",
    "    review_data_list = []\n",
    "    page_soup = soup.find_all(class_='a-section review')\n",
    "    for review_soup in page_soup:\n",
    "        profile_url = get_profile_url(review_soup)\n",
    "        num_helpfuls = parse_helpfuls(review_soup)\n",
    "\n",
    "        try:\n",
    "            stars = float(review_soup.find(class_='a-icon-alt').text[:4])\n",
    "        except:\n",
    "            print('parsing stars: something went wrong!')\n",
    "            stars = None\n",
    "\n",
    "        try:\n",
    "            date_posted = review_soup.find(class_='a-size-base a-color-secondary review-date'\n",
    "                                           ).text.strip('on').strip()\n",
    "            try:\n",
    "                date_posted = parser().parse(date_posted)\n",
    "            except:\n",
    "                print('date parsesr fucked up')\n",
    "                \n",
    "        except:\n",
    "            print('parsing date: something went wrong!')\n",
    "            date_posted = None\n",
    "\n",
    "        try:\n",
    "            body = review_soup.find(class_='a-size-base review-text').text\n",
    "        except:\n",
    "            print('parsing body: something went wrong!')\n",
    "            body = None\n",
    "            \n",
    "        try:\n",
    "            is_verified = review_soup.find(\n",
    "                class_='a-size-mini a-color-state a-text-bold').text == 'Verified Purchase'\n",
    "        except:\n",
    "            is_verified = False\n",
    "\n",
    "        review_dic = {\n",
    "            'profile_url': profile_url,\n",
    "            'stars': stars,\n",
    "            'date_posted': date_posted,\n",
    "            'body': body,\n",
    "            'num_helpfuls': num_helpfuls,\n",
    "            'is_verified': is_verified\n",
    "        }\n",
    "        review_data_list.append(review_dic)\n",
    "    return review_data_list"
   ]
  },
  {
   "cell_type": "code",
   "execution_count": 164,
   "metadata": {
    "ExecuteTime": {
     "end_time": "2018-05-07T22:37:11.821649Z",
     "start_time": "2018-05-07T22:37:11.817664Z"
    },
    "code_folding": [
     0
    ],
    "init_cell": true
   },
   "outputs": [],
   "source": [
    "def get_page_count(browser,soup):\n",
    "    try:\n",
    "        number_of_pages = int(soup.find_all(class_='page-button')[-1].text)\n",
    "    except:\n",
    "        browser.refresh()\n",
    "        nap(1.25, 1.5)\n",
    "        try:\n",
    "            number_of_pages = int(soup.find_all(class_='page-button')[-1].text)\n",
    "        except:\n",
    "            number_of_pages = 1\n",
    "    return number_of_pages"
   ]
  },
  {
   "cell_type": "code",
   "execution_count": 167,
   "metadata": {
    "ExecuteTime": {
     "end_time": "2018-05-07T22:37:43.177207Z",
     "start_time": "2018-05-07T22:37:43.170189Z"
    },
    "code_folding": [
     0
    ],
    "init_cell": true
   },
   "outputs": [],
   "source": [
    "def start_scrape(asin, path_to_chromedriver=None):\n",
    "    if not path_to_chromedriver:\n",
    "        path_to_chromedriver = os.path.abspath('chromedriver')\n",
    "    browser = webdriver.Chrome(path_to_chromedriver)\n",
    "    make_folder('products')\n",
    "    make_nested_folders({'products/' + asin: ['html', 'raw', 'processed']})\n",
    "    review_data = []\n",
    "    start_url = conjure_url(asin, 1)\n",
    "    browser.get(start_url)\n",
    "    nap(.85,1.25)\n",
    "    soup = bs(browser.page_source, 'lxml')\n",
    "    num_pages = get_page_count(browser, soup)\n",
    "    review_data.extend(parse_review_page(soup))\n",
    "    download_html(browser, 'products/' + asin, 1)\n",
    "    print('Page %s of %s scraped' % (1, num_pages))\n",
    "    if num_pages == 1:\n",
    "        rdf = pd.DataFrame(review_data)\n",
    "        rdf.to_csv('products/' + asin + '/raw/complete.csv', index=False)\n",
    "        return browser, rdf\n",
    "    prev_page = browser.current_url\n",
    "    for page_num in range(2, num_pages + 1):\n",
    "        try:\n",
    "            next_button = browser.find_elements_by_class_name('a-last')[0]\n",
    "            next_button.click()\n",
    "            print(1)\n",
    "            nap(.35,.7)\n",
    "            if prev_page == browser.current_url:\n",
    "                break\n",
    "            prev_page = browser.current_url\n",
    "#             control_scroll(browser)\n",
    "            print(2)\n",
    "            nap()\n",
    "            soup = bs(browser.page_source, 'lxml')\n",
    "            review_data.extend(parse_review_page(soup))\n",
    "            print(3)\n",
    "            nap()\n",
    "            download_html(browser, 'products/' + asin, page_num)\n",
    "            print('Page %s of %s scraped' % (page_num, num_pages))\n",
    "        except:\n",
    "            print('SOMETHING WENT WRONG WITH page %s of %s' % (page_num, num_pages))\n",
    "            download_html(browser, 'products/' + asin, page_num, 'ERROR')\n",
    "            rdf = pd.DataFrame(review_data)\n",
    "            rdf.to_csv('products/' + asin + '/raw/ERROR-' + str(page_num) + '.csv', index=False)\n",
    "            return browser, None           \n",
    "    rdf = pd.DataFrame(review_data)\n",
    "    rdf['asin'] = [asin] * rdf.shape[0]\n",
    "    rdf.to_csv('products/' + asin + '/raw/complete.csv', index=False)\n",
    "    return browser, rdf"
   ]
  },
  {
   "cell_type": "markdown",
   "metadata": {},
   "source": [
    "# Profile Scraper Functions"
   ]
  },
  {
   "cell_type": "code",
   "execution_count": 144,
   "metadata": {
    "ExecuteTime": {
     "end_time": "2018-05-07T22:36:15.039702Z",
     "start_time": "2018-05-07T22:36:15.036693Z"
    },
    "code_folding": [
     0
    ],
    "init_cell": true
   },
   "outputs": [],
   "source": [
    "def parse_profile_name(soup):\n",
    "    try:\n",
    "        profile_name = soup.find(class_='name-container').text\n",
    "    except:\n",
    "        profile_name = None\n",
    "    return profile_name"
   ]
  },
  {
   "cell_type": "code",
   "execution_count": 77,
   "metadata": {
    "ExecuteTime": {
     "end_time": "2018-05-07T22:33:04.001491Z",
     "start_time": "2018-05-07T22:33:03.993474Z"
    },
    "code_folding": [
     0
    ],
    "init_cell": true
   },
   "outputs": [],
   "source": [
    "def parse_num_reviews(browser):\n",
    "    prof_stats = browser.find_elements_by_class_name('dashboard-desktop-stat-value')\n",
    "    if len(prof_stats) != 4:\n",
    "        print('PROFILE HAS MORE THAN 4 PROF STATS')\n",
    "    try:\n",
    "        review_count = prof_stats[1]\n",
    "        num_reviews = int(review_count.text)\n",
    "        review_count.click()\n",
    "    except:\n",
    "        num_reviews = None\n",
    "        print('>>>>>>>    COULD not parse prof stats')\n",
    "    return num_reviews, browser"
   ]
  },
  {
   "cell_type": "code",
   "execution_count": 78,
   "metadata": {
    "ExecuteTime": {
     "end_time": "2018-05-07T22:33:04.010515Z",
     "start_time": "2018-05-07T22:33:04.003502Z"
    },
    "code_folding": [
     0
    ],
    "init_cell": true
   },
   "outputs": [],
   "source": [
    "def parse_prod_name(container):\n",
    "    try:\n",
    "        prod_name = container.text\n",
    "    except:\n",
    "        print('couldnt parse product name')\n",
    "        prod_name = None\n",
    "    return prod_name"
   ]
  },
  {
   "cell_type": "code",
   "execution_count": 79,
   "metadata": {
    "ExecuteTime": {
     "end_time": "2018-05-07T22:33:04.020555Z",
     "start_time": "2018-05-07T22:33:04.012519Z"
    },
    "code_folding": [
     0
    ],
    "init_cell": true
   },
   "outputs": [],
   "source": [
    "def parse_rating(head_element):\n",
    "    try:\n",
    "        star_element = head_element.find('i')\n",
    "        for c in star_element['class'][::-1]:\n",
    "            if 'a-star' in c:\n",
    "                rating = c.split('-')[-1]\n",
    "                if rating.isdigit():\n",
    "                    stars = int(rating)\n",
    "                    return stars\n",
    "                else:\n",
    "                    stars = c\n",
    "                    print('@#$@#$@# error parsing rating')\n",
    "    except:\n",
    "        print('parsing rating ERROR #!@$#@$')\n",
    "        stars = None\n",
    "    return stars"
   ]
  },
  {
   "cell_type": "code",
   "execution_count": 80,
   "metadata": {
    "ExecuteTime": {
     "end_time": "2018-05-07T22:33:04.029599Z",
     "start_time": "2018-05-07T22:33:04.022545Z"
    },
    "code_folding": [
     0
    ],
    "init_cell": true
   },
   "outputs": [],
   "source": [
    "def parse_review_title(head_element):\n",
    "    try:\n",
    "        review_title = head_element.find(class_='glimpse-review-title').text\n",
    "    except:\n",
    "        review_title = None\n",
    "        print(' encountered      review     title    e rr ro ro rrrr oror ')\n",
    "    return review_title"
   ]
  },
  {
   "cell_type": "code",
   "execution_count": 81,
   "metadata": {
    "ExecuteTime": {
     "end_time": "2018-05-07T22:33:04.038587Z",
     "start_time": "2018-05-07T22:33:04.031569Z"
    },
    "code_folding": [
     0
    ],
    "init_cell": true
   },
   "outputs": [],
   "source": [
    "def parse_body_snippet(container):\n",
    "    try:\n",
    "        body_snippet = container.text\n",
    "    except:\n",
    "        print('no review snippet to be found ' * 8)\n",
    "        body_snippet = None\n",
    "    return body_snippet"
   ]
  },
  {
   "cell_type": "code",
   "execution_count": 82,
   "metadata": {
    "ExecuteTime": {
     "end_time": "2018-05-07T22:33:04.057637Z",
     "start_time": "2018-05-07T22:33:04.040592Z"
    },
    "code_folding": [
     0
    ],
    "init_cell": true
   },
   "outputs": [],
   "source": [
    "def scrape_sus_profile(profile_url, path_to_chromedriver=None):\n",
    "    def suffix_to_url(x): return 'https://www.amazon.com' + x\n",
    "    if not path_to_chromedriver:\n",
    "        path_to_chromedriver = os.path.abspath('chromedriver')\n",
    "    browser = webdriver.Chrome(path_to_chromedriver)\n",
    "    profile_id = profile_url.split('account.')[-1].split('/')[0]\n",
    "    make_folder('profiles')\n",
    "    make_nested_folders({'profiles/' + profile_id: ['html']})\n",
    "    start_url = suffix_to_url(profile_url)\n",
    "    browser.get(start_url)\n",
    "    nap(1.6, 3.7)\n",
    "    browser.execute_script(\"window.scrollTo(0, %s)\" % 550)\n",
    "    \n",
    "    num_reviews, browser = parse_num_reviews(browser)\n",
    "    nap(1.9, 2.5)\n",
    "    browser.execute_script(\"window.scrollTo(0, %s)\" % 650)\n",
    "\n",
    "    \n",
    "    \n",
    "    soup = bs(browser.page_source, 'lxml')\n",
    "    profile_name = parse_profile_name(soup)\n",
    "    browser.execute_script(\"window.scrollTo(0, document.body.scrollHeight)\")\n",
    "    nap(2, 2.5)\n",
    "    review_cards = browser.find_elements_by_id('glimpse-ephemeral-metadata')\n",
    "    if review_cards == []:\n",
    "        nap(1.4, 1.7)\n",
    "        review_cards = browser.find_elements_by_id('glimpse-ephemeral-metadata')\n",
    "    containers = soup.findAll(class_='glimpse-flex-container')\n",
    "    num_public_reviews = len(review_cards)\n",
    "    profile_reviews = []\n",
    "    if num_public_reviews == 0:\n",
    "        print('no public reviews')\n",
    "        review_dic = {\n",
    "            'profile_id': profile_id,\n",
    "            'profile_name': profile_name,\n",
    "            'num_reviews': num_reviews,\n",
    "            'num_public_reviews': num_public_reviews,\n",
    "            'asin': None,\n",
    "            'review_date': None,\n",
    "            'prod_name': None,\n",
    "            'stars': None,\n",
    "            'review_title': None,\n",
    "            'body_snippet': None,\n",
    "            'profile_url': profile_url\n",
    "        }\n",
    "        profile_reviews.append(review_dic)\n",
    "        return browser, profile_reviews\n",
    "    browser.execute_script(\"window.scrollTo(0, %s)\" % 350)\n",
    "    nap(1, 1.5)\n",
    "    browser.execute_script(\"window.scrollTo(0, %s)\" % 950)\n",
    "    nap(.25, .6)\n",
    "    review_cards = browser.find_elements_by_id('glimpse-ephemeral-metadata')\n",
    "    containers = soup.findAll(class_='glimpse-flex-container')\n",
    "    num_public_reviews = len(review_cards)\n",
    "    if num_public_reviews != num_reviews:\n",
    "        print('---  There are %s reviews missing from profile' %\n",
    "              (num_reviews - num_public_reviews))\n",
    "\n",
    "    if len(containers) / num_public_reviews != 3.0:\n",
    "        \n",
    "        browser.execute_script(\"window.scrollTo(0, document.body.scrollHeight)\")\n",
    "        nap(.4, .7)\n",
    "        review_cards = browser.find_elements_by_id('glimpse-ephemeral-metadata')\n",
    "        containers = soup.findAll(class_='glimpse-flex-container')\n",
    "        num_public_reviews = len(review_cards)\n",
    "        print(len(containers), num_public_reviews)\n",
    "        print('containers != 3 * num public reviews')\n",
    "    download_html(browser,'profiles/' +  profile_id, 1)\n",
    "    \n",
    "    for i, product_review in enumerate(review_cards):\n",
    "        if 3*i + 2 >= len(containers):\n",
    "            break\n",
    "        try:\n",
    "            prod_asin = product_review.get_attribute('data-product-id')\n",
    "        except:\n",
    "            print('ERROR PARSING ASIN')\n",
    "            prod_asin = None\n",
    "\n",
    "        try:\n",
    "            review_date = product_review.get_attribute(\n",
    "                'data-activity-timestamp')\n",
    "            if len(review_date) < 10:\n",
    "                print('CANT PARSE REVIEW DATE')\n",
    "            else:\n",
    "                review_date = dt.fromtimestamp(int(review_date[:10]))\n",
    "        except:\n",
    "            print(review_date)\n",
    "            print('ERROR PARSING review_date')\n",
    "            review_date = None\n",
    "\n",
    "        prod_name = parse_prod_name(containers[3*i])\n",
    "        try:\n",
    "            head_element = containers[3*i + 1]\n",
    "            stars = parse_rating(head_element)\n",
    "            review_title = parse_review_title(head_element)\n",
    "        except:\n",
    "            print('couldnt find head element    -    no review title OR product name')\n",
    "            review_title = None\n",
    "            stars = None\n",
    "        body_snippet = parse_body_snippet(containers[3*i + 2])\n",
    "        review_dic = {\n",
    "            'profile_id': profile_id,\n",
    "            'profile_name': profile_name,\n",
    "            'num_reviews': num_reviews,\n",
    "            'num_public_reviews': num_public_reviews,\n",
    "            'asin': prod_asin,\n",
    "            'review_date': review_date,\n",
    "            'prod_name': prod_name,\n",
    "            'stars': stars,\n",
    "            'review_title': review_title,\n",
    "            'body_snippet': body_snippet,\n",
    "            'profile_url': profile_url\n",
    "        }\n",
    "        profile_reviews.append(review_dic)\n",
    "    pr_df = pd.DataFrame(profile_reviews)\n",
    "    pr_df.to_csv('profiles/' + profile_id + '/profile.csv', index=False)\n",
    "    return browser, profile_reviews"
   ]
  },
  {
   "cell_type": "markdown",
   "metadata": {},
   "source": [
    "# I/O functions"
   ]
  },
  {
   "cell_type": "code",
   "execution_count": 83,
   "metadata": {
    "ExecuteTime": {
     "end_time": "2018-05-07T22:33:04.066661Z",
     "start_time": "2018-05-07T22:33:04.059668Z"
    },
    "code_folding": [
     0
    ],
    "init_cell": true
   },
   "outputs": [],
   "source": [
    "def get_already_scraped(prods_or_profs='products'):\n",
    "    if prods_or_profs[:4] == 'prod':\n",
    "        dir_contents = os.listdir(\"products\")\n",
    "    else:\n",
    "        dir_contents = os.listdir(\"profiles\")\n",
    "    return dir_contents"
   ]
  },
  {
   "cell_type": "code",
   "execution_count": 84,
   "metadata": {
    "ExecuteTime": {
     "end_time": "2018-05-07T22:33:04.077689Z",
     "start_time": "2018-05-07T22:33:04.068666Z"
    },
    "code_folding": [
     0
    ],
    "init_cell": true
   },
   "outputs": [],
   "source": [
    "def aggregate_data(prods_or_profs='products'):\n",
    "    already_scraped = get_already_scraped(prods_or_profs)\n",
    "    agg_data = []\n",
    "    target_is_product = prods_or_profs[:4] == 'prod'\n",
    "    clean_purl = lambda x: x.split('/ref')[0]\n",
    "\n",
    "    for name in already_scraped:\n",
    "        if target_is_product:\n",
    "            data_path = \"products/\" + name + \"/raw/complete.csv\"\n",
    "        else:\n",
    "            data_path = \"profiles/\" + name + \"/profile.csv\"\n",
    "        if os.path.exists(data_path):\n",
    "            try:\n",
    "                df = pd.read_csv(data_path)\n",
    "                if ('body' in df.columns) and ('asin' not in df.columns):\n",
    "                    df['asin'] = [name] * df.shape[0]\n",
    "                agg_data.append(df)\n",
    "            except:\n",
    "                print(name)\n",
    "\n",
    "        else:\n",
    "            print(name, 'has incomplete data')\n",
    "        \n",
    "    agg_df = pd.concat(agg_data)\n",
    "    agg_df = agg_df[~agg_df.duplicated()]\n",
    "    if target_is_product:\n",
    "        agg_df['profile_url'] = agg_df['profile_url'].apply(clean_purl)\n",
    "    else:\n",
    "        agg_df['profile_url'] = agg_df['profile_url'].apply(lambda x: x[:-1])\n",
    "    return agg_df"
   ]
  },
  {
   "cell_type": "code",
   "execution_count": 85,
   "metadata": {
    "ExecuteTime": {
     "end_time": "2018-05-07T22:33:04.088751Z",
     "start_time": "2018-05-07T22:33:04.078706Z"
    },
    "code_folding": [],
    "init_cell": true
   },
   "outputs": [],
   "source": [
    "def load_all_data():\n",
    "    rev_df = aggregate_data()\n",
    "    prof_df = aggregate_data('profiles')\n",
    "    rev_df['date_posted'] = pd.DatetimeIndex(rev_df['date_posted'])\n",
    "    prof_df['review_date'] = pd.DatetimeIndex(prof_df['review_date'])\n",
    "    return rev_df, prof_df"
   ]
  },
  {
   "cell_type": "markdown",
   "metadata": {},
   "source": [
    "# Feature Extraction Utilities"
   ]
  },
  {
   "cell_type": "code",
   "execution_count": 86,
   "metadata": {
    "ExecuteTime": {
     "end_time": "2018-05-07T22:33:04.097742Z",
     "start_time": "2018-05-07T22:33:04.090731Z"
    },
    "code_folding": [
     0
    ],
    "init_cell": true
   },
   "outputs": [],
   "source": [
    "def count_dates_overlap(date_array1, date_array2):\n",
    "    \"\"\"\n",
    "    Calculates a score to measure the overlap in review activity periods \n",
    "    \"\"\"\n",
    "    date1_max, date1_min = date_array1.max(), date_array1.min()\n",
    "    date2_max, date2_min = date_array2.max(), date_array2.min()\n",
    "    num_d1_in_d2 = 0\n",
    "    for date1 in date_array1:\n",
    "        if (date1 >= date2_min) and (date1 <= date2_max):\n",
    "            num_d1_in_d2 += 1\n",
    "    num_d2_in_d1 = 0\n",
    "    for date2 in date_array2:\n",
    "        if (date2 >= date1_min) and (date2 <= date1_max):\n",
    "            num_d2_in_d1 += 1\n",
    "    date_overlap_score = (num_d1_in_d2 + num_d2_in_d1) \\\n",
    "                         / (date_array1.shape[0] + date_array2.shape[0])\n",
    "    return date_overlap_score"
   ]
  },
  {
   "cell_type": "code",
   "execution_count": 87,
   "metadata": {
    "ExecuteTime": {
     "end_time": "2018-05-07T22:33:04.108770Z",
     "start_time": "2018-05-07T22:33:04.099749Z"
    },
    "code_folding": [
     0
    ],
    "init_cell": true
   },
   "outputs": [],
   "source": [
    "def filter_by_req_words(df, required_words=[]):\n",
    "    req_words_search = '|'.join([s.lower() for s in required_words])\n",
    "    df_filt = df[df['body'].str.lower().str.contains(req_words_search, na=False)]\n",
    "    return df_filt"
   ]
  },
  {
   "cell_type": "markdown",
   "metadata": {},
   "source": [
    "# Profile-local feature extractors"
   ]
  },
  {
   "cell_type": "code",
   "execution_count": 88,
   "metadata": {
    "ExecuteTime": {
     "end_time": "2018-05-07T22:33:04.118800Z",
     "start_time": "2018-05-07T22:33:04.109772Z"
    },
    "code_folding": [
     0
    ],
    "init_cell": true
   },
   "outputs": [],
   "source": [
    "def get_burstiness(prof_df, profile_id, tau=28):\n",
    "    user_df = prof_df[prof_df['profile_id'] == profile_id]\n",
    "    if user_df.shape[0] <= 1:\n",
    "        return 0\n",
    "    else:\n",
    "        activity_span = (user_df.review_date.max() - user_df.review_date.min()).days\n",
    "        if activity_span > 0 and activity_span < tau:\n",
    "            burstiness = activity_span / tau\n",
    "            return np.round(1 - burstiness)\n",
    "        else:\n",
    "            return 0"
   ]
  },
  {
   "cell_type": "code",
   "execution_count": 89,
   "metadata": {
    "ExecuteTime": {
     "end_time": "2018-05-07T22:33:04.129825Z",
     "start_time": "2018-05-07T22:33:04.121804Z"
    },
    "code_folding": [
     0
    ],
    "init_cell": true
   },
   "outputs": [],
   "source": [
    "def get_star_ratio(prof_df, profile_id, neg_below=5):\n",
    "    user_ratings = prof_df[prof_df['profile_id'] == profile_id].stars\n",
    "    num_neg = (user_ratings < neg_below).sum()\n",
    "    num_pos = user_ratings.shape[0] - num_neg\n",
    "    if num_neg == 0:\n",
    "        ratio = num_pos **1.6\n",
    "    else:\n",
    "        ratio = num_pos / num_neg\n",
    "    return ratio"
   ]
  },
  {
   "cell_type": "code",
   "execution_count": 90,
   "metadata": {
    "ExecuteTime": {
     "end_time": "2018-05-07T22:33:04.141855Z",
     "start_time": "2018-05-07T22:33:04.130832Z"
    },
    "code_folding": [
     0
    ],
    "init_cell": true
   },
   "outputs": [],
   "source": [
    "def process_profile_features(prof_df, profile_id):\n",
    "    if 'burstiness' not in prof_df.columns:\n",
    "        prof_df['burstiness'] = 0.0\n",
    "    prof_df_copy = prof_df.set_index('profile_id')\n",
    "    prof_df_copy.at[profile_id, 'burstiness'] = get_burstiness(prof_df_copy.reset_index(), profile_id)\n",
    "    \n",
    "    if 'star_ratio' not in prof_df.columns:\n",
    "        prof_df['star_ratio'] = 0.0\n",
    "    prof_df_copy = prof_df.set_index('profile_id')\n",
    "    prof_df_copy.at[profile_id, 'star_ratio'] = get_star_ratio(prof_df_copy.reset_index(), profile_id)\n",
    "    \n",
    "    return prof_df_copy.reset_index()"
   ]
  },
  {
   "cell_type": "code",
   "execution_count": 91,
   "metadata": {
    "ExecuteTime": {
     "end_time": "2018-05-07T22:33:04.149876Z",
     "start_time": "2018-05-07T22:33:04.143861Z"
    },
    "code_folding": [
     0
    ],
    "init_cell": true
   },
   "outputs": [],
   "source": [
    "def batch_profile_features(prof_df, profile_ids=[]):\n",
    "    if profile_ids == []:\n",
    "        profile_ids = prof_df.profile_id.unique()\n",
    "    for profile_id in profile_ids:\n",
    "        prof_df = process_profile_features(prof_df, profile_id)\n",
    "    return prof_df"
   ]
  },
  {
   "cell_type": "markdown",
   "metadata": {},
   "source": [
    "# Profile-Profile feature extractors"
   ]
  },
  {
   "cell_type": "code",
   "execution_count": 92,
   "metadata": {
    "ExecuteTime": {
     "end_time": "2018-05-07T22:33:04.159902Z",
     "start_time": "2018-05-07T22:33:04.152885Z"
    },
    "code_folding": [
     0
    ],
    "init_cell": true
   },
   "outputs": [],
   "source": [
    "def get_rel_burstiness(prof_df, profile_id1, profile_id2):\n",
    "    \"\"\"\n",
    "    must share at least N reviewed product(s)\n",
    "     - or only the reviews of the shared products\n",
    "    \"\"\"\n",
    "    user1_dates = pd.DatetimeIndex(prof_df[prof_df['profile_id'] == profile_id1]['review_date'].values).date\n",
    "    user2_dates = pd.DatetimeIndex(prof_df[prof_df['profile_id'] == profile_id2]['review_date'].values).date\n",
    "    date_overlap_score = count_dates_overlap(user1_dates, user2_dates)\n",
    "    return date_overlap_score"
   ]
  },
  {
   "cell_type": "code",
   "execution_count": 93,
   "metadata": {
    "ExecuteTime": {
     "end_time": "2018-05-07T22:33:04.170935Z",
     "start_time": "2018-05-07T22:33:04.161908Z"
    },
    "code_folding": [
     0
    ],
    "init_cell": true
   },
   "outputs": [],
   "source": [
    "def get_time_stats(prof_df, profile_id1, profile_id2):\n",
    "    timestamps1 = pd.DatetimeIndex(prof_df[prof_df['profile_id'] == profile_id1].review_date.values)\n",
    "    timestamps2 = pd.DatetimeIndex(prof_df[prof_df['profile_id'] == profile_id2].review_date.values)\n",
    "    timedelts = []\n",
    "    for ts1 in timestamps1:\n",
    "        delt = np.abs((timestamps2 - ts1).total_seconds())\n",
    "        nearest_neighbor = delt.min() / 60 / 60\n",
    "        timedelts.append(nearest_neighbor)\n",
    "    for ts2 in timestamps2:\n",
    "        delt = np.abs((timestamps1 - ts2).total_seconds())\n",
    "        nearest_neighbor = delt.min() / 60 / 60\n",
    "        timedelts.append(nearest_neighbor)\n",
    "    return np.mean(timedelts), np.std(timedelts)"
   ]
  },
  {
   "cell_type": "markdown",
   "metadata": {},
   "source": [
    "# ASIN-local feature extractors"
   ]
  },
  {
   "cell_type": "code",
   "execution_count": 94,
   "metadata": {
    "ExecuteTime": {
     "end_time": "2018-05-07T22:33:04.179955Z",
     "start_time": "2018-05-07T22:33:04.172936Z"
    },
    "code_folding": [
     0
    ],
    "init_cell": true
   },
   "outputs": [],
   "source": [
    "def get_verified_ratio(rev_df, asin, five_star_only=True):\n",
    "    asin_df = rev_df[rev_df['asin'] == asin]\n",
    "    if five_star_only:\n",
    "        is_verif = asin_df[asin_df['stars'] == 5]['is_verified']\n",
    "    else:\n",
    "        is_verif = asin_df['is_verified']\n",
    "    num_verified = is_verif.sum()\n",
    "    num_unverified = is_verif.shape[0] - num_verified\n",
    "    if num_verified == 0:\n",
    "        ratio =  num_unverified ** 1.6\n",
    "    else:\n",
    "        ratio = num_unverified / num_verified\n",
    "    return ratio"
   ]
  },
  {
   "cell_type": "code",
   "execution_count": 95,
   "metadata": {
    "ExecuteTime": {
     "end_time": "2018-05-07T22:33:04.191988Z",
     "start_time": "2018-05-07T22:33:04.180959Z"
    },
    "code_folding": [
     0
    ],
    "init_cell": true
   },
   "outputs": [],
   "source": [
    "def get_helpful_ratio(rev_df, asin):\n",
    "    asin_df = rev_df[rev_df['asin'] == asin]\n",
    "    \n",
    "    mean_helpfuls_neg = asin_df[asin_df['stars'] <=2]['num_helpfuls'].mean()\n",
    "    if np.isnan(mean_helpfuls_neg):\n",
    "        mean_helpfuls_neg = 0\n",
    "\n",
    "    mean_helpfuls_pos = asin_df[asin_df['stars'] >2]['num_helpfuls'].mean()\n",
    "    if np.isnan(mean_helpfuls_pos):\n",
    "        mean_helpfuls_pos = 0\n",
    "\n",
    "    if mean_helpfuls_pos == 0:\n",
    "        ratio = mean_helpfuls_neg ** 1.6\n",
    "    else:\n",
    "        ratio = mean_helpfuls_neg / mean_helpfuls_pos\n",
    "    return ratio"
   ]
  },
  {
   "cell_type": "code",
   "execution_count": 96,
   "metadata": {
    "ExecuteTime": {
     "end_time": "2018-05-07T22:33:04.203043Z",
     "start_time": "2018-05-07T22:33:04.192990Z"
    },
    "code_folding": [
     0
    ],
    "init_cell": true
   },
   "outputs": [],
   "source": [
    "def get_num_callouts(rev_df, asin):\n",
    "    asin_df = rev_df[rev_df['asin'] == asin]\n",
    "    callout_df = asin_df[asin_df['stars'] <=2]\n",
    "    red_flags = ['fake review', 'scam', 'fake profile', 'beware', 'bogus', 't real', 'dont believe', \"report\", \"don't believe\", \"don't buy\", \"dont buy\", 'reviews aren']\n",
    "    filt_df = filter_by_req_words(callout_df, required_words=red_flags)\n",
    "    return len(filt_df)"
   ]
  },
  {
   "cell_type": "code",
   "execution_count": 97,
   "metadata": {
    "ExecuteTime": {
     "end_time": "2018-05-07T22:33:04.212069Z",
     "start_time": "2018-05-07T22:33:04.205020Z"
    },
    "code_folding": [
     0
    ],
    "init_cell": true
   },
   "outputs": [],
   "source": [
    "def process_asin_features(rev_df, asin):\n",
    "    if 'helpful_ratio' not in rev_df.columns:\n",
    "        rev_df['helpful_ratio'] = 0.0\n",
    "    rev_df_copy = rev_df.set_index('asin')\n",
    "    rev_df_copy.at[asin, 'helpful_ratio'] = get_helpful_ratio(rev_df_copy.reset_index(), asin)\n",
    "    \n",
    "    if 'num_callouts' not in rev_df.columns:\n",
    "        rev_df_copy['num_callouts'] = 0\n",
    "    rev_df_copy.at[asin, 'num_callouts'] = get_num_callouts(rev_df_copy.reset_index(), asin)\n",
    "    \n",
    "    if 'verified_ratio' not in rev_df.columns:\n",
    "        rev_df_copy['verified_ratio'] = 0\n",
    "    rev_df_copy.at[asin, 'verified_ratio'] = get_verified_ratio(rev_df_copy.reset_index(), asin)\n",
    "    return rev_df_copy.reset_index()"
   ]
  },
  {
   "cell_type": "code",
   "execution_count": 98,
   "metadata": {
    "ExecuteTime": {
     "end_time": "2018-05-07T22:33:04.221095Z",
     "start_time": "2018-05-07T22:33:04.214043Z"
    },
    "code_folding": [
     0
    ],
    "init_cell": true
   },
   "outputs": [],
   "source": [
    "def batch_asin_features(rev_df, asins=[]):\n",
    "    if asins == []:\n",
    "        asins = rev_df.asin.unique()\n",
    "    for asin in asins:\n",
    "        rev_df = process_asin_features(rev_df, asin)\n",
    "    return rev_df"
   ]
  },
  {
   "cell_type": "markdown",
   "metadata": {},
   "source": [
    "# SPIDER operational functions:"
   ]
  },
  {
   "cell_type": "code",
   "execution_count": 99,
   "metadata": {
    "ExecuteTime": {
     "end_time": "2018-05-07T22:33:04.229083Z",
     "start_time": "2018-05-07T22:33:04.223067Z"
    },
    "code_folding": [
     0
    ],
    "init_cell": true
   },
   "outputs": [],
   "source": [
    "def get_scraped_profiles(prof_df):\n",
    "    return"
   ]
  },
  {
   "cell_type": "markdown",
   "metadata": {},
   "source": [
    "## What if for profiles/ASINS that *do not* exist ==> interpret as fake?\n",
    "## Limit to first-order cnxns"
   ]
  },
  {
   "cell_type": "code",
   "execution_count": 168,
   "metadata": {
    "ExecuteTime": {
     "end_time": "2018-05-07T22:38:12.097521Z",
     "start_time": "2018-05-07T22:37:45.968217Z"
    },
    "scrolled": true
   },
   "outputs": [
    {
     "name": "stdout",
     "output_type": "stream",
     "text": [
      "Page 1 of 9 scraped\n",
      "1\n",
      "2\n",
      "3\n",
      "Page 2 of 9 scraped\n",
      "1\n",
      "2\n",
      "3\n",
      "Page 3 of 9 scraped\n",
      "1\n",
      "2\n",
      "3\n",
      "Page 4 of 9 scraped\n",
      "1\n",
      "2\n",
      "3\n",
      "Page 5 of 9 scraped\n",
      "1\n",
      "2\n",
      "3\n",
      "Page 6 of 9 scraped\n",
      "1\n",
      "2\n",
      "3\n",
      "Page 7 of 9 scraped\n",
      "1\n",
      "2\n",
      "3\n",
      "Page 8 of 9 scraped\n",
      "1\n",
      "2\n",
      "3\n",
      "Page 9 of 9 scraped\n"
     ]
    }
   ],
   "source": [
    "b = start_scrape('B07BLWSBWK')"
   ]
  },
  {
   "cell_type": "code",
   "execution_count": 169,
   "metadata": {
    "ExecuteTime": {
     "end_time": "2018-05-07T22:40:28.576019Z",
     "start_time": "2018-05-07T22:40:28.565974Z"
    }
   },
   "outputs": [],
   "source": [
    "rev_df = aggregate_data()"
   ]
  },
  {
   "cell_type": "code",
   "execution_count": 170,
   "metadata": {
    "ExecuteTime": {
     "end_time": "2018-05-07T22:40:32.539811Z",
     "start_time": "2018-05-07T22:40:32.509733Z"
    }
   },
   "outputs": [
    {
     "data": {
      "text/html": [
       "<div>\n",
       "<style scoped>\n",
       "    .dataframe tbody tr th:only-of-type {\n",
       "        vertical-align: middle;\n",
       "    }\n",
       "\n",
       "    .dataframe tbody tr th {\n",
       "        vertical-align: top;\n",
       "    }\n",
       "\n",
       "    .dataframe thead th {\n",
       "        text-align: right;\n",
       "    }\n",
       "</style>\n",
       "<table border=\"1\" class=\"dataframe\">\n",
       "  <thead>\n",
       "    <tr style=\"text-align: right;\">\n",
       "      <th></th>\n",
       "      <th>body</th>\n",
       "      <th>date_posted</th>\n",
       "      <th>is_verified</th>\n",
       "      <th>num_helpfuls</th>\n",
       "      <th>profile_url</th>\n",
       "      <th>stars</th>\n",
       "      <th>asin</th>\n",
       "    </tr>\n",
       "  </thead>\n",
       "  <tbody>\n",
       "    <tr>\n",
       "      <th>0</th>\n",
       "      <td>This item was a replacement for a Flex (1). I ...</td>\n",
       "      <td>2018-04-27</td>\n",
       "      <td>True</td>\n",
       "      <td>0</td>\n",
       "      <td>/gp/profile/amzn1.account.AFBZUFC5S75JKPU56KQL...</td>\n",
       "      <td>5.0</td>\n",
       "      <td>B07BLWSBWK</td>\n",
       "    </tr>\n",
       "    <tr>\n",
       "      <th>1</th>\n",
       "      <td>Love the minimalist band that is able to commu...</td>\n",
       "      <td>2018-04-27</td>\n",
       "      <td>True</td>\n",
       "      <td>0</td>\n",
       "      <td>/gp/profile/amzn1.account.AGBDG4FYBNKK3CPLD7TJ...</td>\n",
       "      <td>5.0</td>\n",
       "      <td>B07BLWSBWK</td>\n",
       "    </tr>\n",
       "    <tr>\n",
       "      <th>2</th>\n",
       "      <td>Came in no time.. really amazing.. wasn't expe...</td>\n",
       "      <td>2018-04-27</td>\n",
       "      <td>True</td>\n",
       "      <td>0</td>\n",
       "      <td>/gp/profile/amzn1.account.AGKCIQO4GUOM4F2LC3IW...</td>\n",
       "      <td>5.0</td>\n",
       "      <td>B07BLWSBWK</td>\n",
       "    </tr>\n",
       "    <tr>\n",
       "      <th>3</th>\n",
       "      <td>I just love the fitbit 2 flex. It helps keep m...</td>\n",
       "      <td>2018-04-27</td>\n",
       "      <td>True</td>\n",
       "      <td>0</td>\n",
       "      <td>/gp/profile/amzn1.account.AEMMCTOCBNI37V7NJPIT...</td>\n",
       "      <td>5.0</td>\n",
       "      <td>B07BLWSBWK</td>\n",
       "    </tr>\n",
       "    <tr>\n",
       "      <th>4</th>\n",
       "      <td>Love it. I wear it all the time to track my st...</td>\n",
       "      <td>2018-04-27</td>\n",
       "      <td>True</td>\n",
       "      <td>0</td>\n",
       "      <td>/gp/profile/amzn1.account.AHARNFAN7RV3Y6MXRRT3...</td>\n",
       "      <td>5.0</td>\n",
       "      <td>B07BLWSBWK</td>\n",
       "    </tr>\n",
       "    <tr>\n",
       "      <th>5</th>\n",
       "      <td>So much more accurate than counting steps on m...</td>\n",
       "      <td>2018-04-27</td>\n",
       "      <td>True</td>\n",
       "      <td>0</td>\n",
       "      <td>/gp/profile/amzn1.account.AF4DIVRDXN2UVRGAAW4J...</td>\n",
       "      <td>5.0</td>\n",
       "      <td>B07BLWSBWK</td>\n",
       "    </tr>\n",
       "    <tr>\n",
       "      <th>6</th>\n",
       "      <td>I loved it b/c I swim for exercise. Unfortunat...</td>\n",
       "      <td>2018-04-27</td>\n",
       "      <td>True</td>\n",
       "      <td>0</td>\n",
       "      <td>/gp/profile/amzn1.account.AF24536FRX6PKK7AS3W7...</td>\n",
       "      <td>5.0</td>\n",
       "      <td>B07BLWSBWK</td>\n",
       "    </tr>\n",
       "    <tr>\n",
       "      <th>7</th>\n",
       "      <td>So far, this is exactly what I need. I've had ...</td>\n",
       "      <td>2018-04-27</td>\n",
       "      <td>True</td>\n",
       "      <td>0</td>\n",
       "      <td>/gp/profile/amzn1.account.AGBDG4FYBNKK3CPLD7TJ...</td>\n",
       "      <td>5.0</td>\n",
       "      <td>B07BLWSBWK</td>\n",
       "    </tr>\n",
       "    <tr>\n",
       "      <th>8</th>\n",
       "      <td>Love this Fitbit! Arrived next day with my Ama...</td>\n",
       "      <td>2018-04-27</td>\n",
       "      <td>True</td>\n",
       "      <td>0</td>\n",
       "      <td>/gp/profile/amzn1.account.AE7Y7PYI2YQ76IXOKOFM...</td>\n",
       "      <td>5.0</td>\n",
       "      <td>B07BLWSBWK</td>\n",
       "    </tr>\n",
       "    <tr>\n",
       "      <th>9</th>\n",
       "      <td>Amazing product and the fact I can track every...</td>\n",
       "      <td>2018-04-27</td>\n",
       "      <td>True</td>\n",
       "      <td>0</td>\n",
       "      <td>/gp/profile/amzn1.account.AF24536FRX6PKK7AS3W7...</td>\n",
       "      <td>5.0</td>\n",
       "      <td>B07BLWSBWK</td>\n",
       "    </tr>\n",
       "    <tr>\n",
       "      <th>10</th>\n",
       "      <td>Love it. Its light I made a home made ankle ba...</td>\n",
       "      <td>2018-04-27</td>\n",
       "      <td>True</td>\n",
       "      <td>0</td>\n",
       "      <td>/gp/profile/amzn1.account.AFBZUFC5S75JKPU56KQL...</td>\n",
       "      <td>5.0</td>\n",
       "      <td>B07BLWSBWK</td>\n",
       "    </tr>\n",
       "    <tr>\n",
       "      <th>11</th>\n",
       "      <td>Love my new Fitbit flex 2! So much lighter and...</td>\n",
       "      <td>2018-04-27</td>\n",
       "      <td>True</td>\n",
       "      <td>0</td>\n",
       "      <td>/gp/profile/amzn1.account.AH63KOOXVHOPL2WE4XLF...</td>\n",
       "      <td>5.0</td>\n",
       "      <td>B07BLWSBWK</td>\n",
       "    </tr>\n",
       "    <tr>\n",
       "      <th>12</th>\n",
       "      <td>My 18 year old daughter loves this fitbit 2. S...</td>\n",
       "      <td>2018-04-28</td>\n",
       "      <td>True</td>\n",
       "      <td>0</td>\n",
       "      <td>/gp/profile/amzn1.account.AGBKOX4MZAJ2ADDKS7NR...</td>\n",
       "      <td>5.0</td>\n",
       "      <td>B07BLWSBWK</td>\n",
       "    </tr>\n",
       "    <tr>\n",
       "      <th>13</th>\n",
       "      <td>Love my Fitbit Flex 2. I love that I can go sw...</td>\n",
       "      <td>2018-04-27</td>\n",
       "      <td>True</td>\n",
       "      <td>0</td>\n",
       "      <td>/gp/profile/amzn1.account.AEXO4BOH7AHJBXCTG56T...</td>\n",
       "      <td>5.0</td>\n",
       "      <td>B07BLWSBWK</td>\n",
       "    </tr>\n",
       "    <tr>\n",
       "      <th>14</th>\n",
       "      <td>The large band fits around my ankle. Have not ...</td>\n",
       "      <td>2018-04-27</td>\n",
       "      <td>True</td>\n",
       "      <td>0</td>\n",
       "      <td>/gp/profile/amzn1.account.AGIMHEX7MVR4LCQS3EHY...</td>\n",
       "      <td>5.0</td>\n",
       "      <td>B07BLWSBWK</td>\n",
       "    </tr>\n",
       "    <tr>\n",
       "      <th>15</th>\n",
       "      <td>This does everything you need. Does not bother...</td>\n",
       "      <td>2018-04-27</td>\n",
       "      <td>True</td>\n",
       "      <td>0</td>\n",
       "      <td>/gp/profile/amzn1.account.AGNKAN6CACY3LEA5EEVZ...</td>\n",
       "      <td>5.0</td>\n",
       "      <td>B07BLWSBWK</td>\n",
       "    </tr>\n",
       "    <tr>\n",
       "      <th>16</th>\n",
       "      <td>I started doing water aerobics, I can wear thi...</td>\n",
       "      <td>2018-04-27</td>\n",
       "      <td>True</td>\n",
       "      <td>0</td>\n",
       "      <td>/gp/profile/amzn1.account.AEUZJEK5BEQPTUUZN6JB...</td>\n",
       "      <td>5.0</td>\n",
       "      <td>B07BLWSBWK</td>\n",
       "    </tr>\n",
       "    <tr>\n",
       "      <th>17</th>\n",
       "      <td>Exactly what I wanted. Syncs easily to my phon...</td>\n",
       "      <td>2018-04-27</td>\n",
       "      <td>True</td>\n",
       "      <td>0</td>\n",
       "      <td>/gp/profile/amzn1.account.AGC6N3EJWTCIGNJCSFMP...</td>\n",
       "      <td>5.0</td>\n",
       "      <td>B07BLWSBWK</td>\n",
       "    </tr>\n",
       "    <tr>\n",
       "      <th>18</th>\n",
       "      <td>This paired perfectly with with my iPhone 6s t...</td>\n",
       "      <td>2018-04-27</td>\n",
       "      <td>True</td>\n",
       "      <td>0</td>\n",
       "      <td>/gp/profile/amzn1.account.AEMMCTOCBNI37V7NJPIT...</td>\n",
       "      <td>5.0</td>\n",
       "      <td>B07BLWSBWK</td>\n",
       "    </tr>\n",
       "    <tr>\n",
       "      <th>19</th>\n",
       "      <td>works very well, it is slim and comfortable, s...</td>\n",
       "      <td>2018-04-27</td>\n",
       "      <td>True</td>\n",
       "      <td>0</td>\n",
       "      <td>/gp/profile/amzn1.account.AGDK45GMTWPQNAJT2RFZ...</td>\n",
       "      <td>5.0</td>\n",
       "      <td>B07BLWSBWK</td>\n",
       "    </tr>\n",
       "    <tr>\n",
       "      <th>20</th>\n",
       "      <td>I had the flex for about a year. I like this o...</td>\n",
       "      <td>2018-04-27</td>\n",
       "      <td>True</td>\n",
       "      <td>0</td>\n",
       "      <td>/gp/profile/amzn1.account.AFXL66WCUVRXKMP44BDI...</td>\n",
       "      <td>5.0</td>\n",
       "      <td>B07BLWSBWK</td>\n",
       "    </tr>\n",
       "    <tr>\n",
       "      <th>21</th>\n",
       "      <td>Love the color. Easy to attach. Will be orderi...</td>\n",
       "      <td>2018-04-27</td>\n",
       "      <td>True</td>\n",
       "      <td>0</td>\n",
       "      <td>/gp/profile/amzn1.account.AGIMHEX7MVR4LCQS3EHY...</td>\n",
       "      <td>5.0</td>\n",
       "      <td>B07BLWSBWK</td>\n",
       "    </tr>\n",
       "    <tr>\n",
       "      <th>22</th>\n",
       "      <td>Great hardware and software application. Howev...</td>\n",
       "      <td>2018-04-28</td>\n",
       "      <td>True</td>\n",
       "      <td>0</td>\n",
       "      <td>/gp/profile/amzn1.account.AGBKOX4MZAJ2ADDKS7NR...</td>\n",
       "      <td>5.0</td>\n",
       "      <td>B07BLWSBWK</td>\n",
       "    </tr>\n",
       "    <tr>\n",
       "      <th>23</th>\n",
       "      <td>It's light and sleek! Never thought I would ge...</td>\n",
       "      <td>2018-04-27</td>\n",
       "      <td>True</td>\n",
       "      <td>0</td>\n",
       "      <td>/gp/profile/amzn1.account.AGYNTKDJULW2L2APONBU...</td>\n",
       "      <td>5.0</td>\n",
       "      <td>B07BLWSBWK</td>\n",
       "    </tr>\n",
       "    <tr>\n",
       "      <th>24</th>\n",
       "      <td>Works great, love the apps and features to get...</td>\n",
       "      <td>2018-04-27</td>\n",
       "      <td>True</td>\n",
       "      <td>0</td>\n",
       "      <td>/gp/profile/amzn1.account.AEXO4BOH7AHJBXCTG56T...</td>\n",
       "      <td>5.0</td>\n",
       "      <td>B07BLWSBWK</td>\n",
       "    </tr>\n",
       "    <tr>\n",
       "      <th>25</th>\n",
       "      <td>Easy to use keeps me on track.</td>\n",
       "      <td>2018-04-28</td>\n",
       "      <td>True</td>\n",
       "      <td>0</td>\n",
       "      <td>/gp/profile/amzn1.account.AE2D3KIHXULLYFWFYKXP...</td>\n",
       "      <td>5.0</td>\n",
       "      <td>B07BLWSBWK</td>\n",
       "    </tr>\n",
       "    <tr>\n",
       "      <th>26</th>\n",
       "      <td>My daughter loves this fitbit. She is tiny and...</td>\n",
       "      <td>2018-04-27</td>\n",
       "      <td>True</td>\n",
       "      <td>0</td>\n",
       "      <td>/gp/profile/amzn1.account.AHRZMUCZLKWKSMXDXMF3...</td>\n",
       "      <td>5.0</td>\n",
       "      <td>B07BLWSBWK</td>\n",
       "    </tr>\n",
       "    <tr>\n",
       "      <th>27</th>\n",
       "      <td>Love my Fitbit and it's accessories. Very easy...</td>\n",
       "      <td>2018-04-27</td>\n",
       "      <td>True</td>\n",
       "      <td>0</td>\n",
       "      <td>/gp/profile/amzn1.account.AGYNTKDJULW2L2APONBU...</td>\n",
       "      <td>5.0</td>\n",
       "      <td>B07BLWSBWK</td>\n",
       "    </tr>\n",
       "    <tr>\n",
       "      <th>28</th>\n",
       "      <td>Works great easy to use</td>\n",
       "      <td>2018-04-28</td>\n",
       "      <td>True</td>\n",
       "      <td>0</td>\n",
       "      <td>/gp/profile/amzn1.account.AE2D3KIHXULLYFWFYKXP...</td>\n",
       "      <td>5.0</td>\n",
       "      <td>B07BLWSBWK</td>\n",
       "    </tr>\n",
       "    <tr>\n",
       "      <th>29</th>\n",
       "      <td>I use it and wear it everyday, it works well w...</td>\n",
       "      <td>2018-04-27</td>\n",
       "      <td>True</td>\n",
       "      <td>0</td>\n",
       "      <td>/gp/profile/amzn1.account.AEDEDGJCQ3EIBBR3KHLE...</td>\n",
       "      <td>5.0</td>\n",
       "      <td>B07BLWSBWK</td>\n",
       "    </tr>\n",
       "    <tr>\n",
       "      <th>...</th>\n",
       "      <td>...</td>\n",
       "      <td>...</td>\n",
       "      <td>...</td>\n",
       "      <td>...</td>\n",
       "      <td>...</td>\n",
       "      <td>...</td>\n",
       "      <td>...</td>\n",
       "    </tr>\n",
       "    <tr>\n",
       "      <th>51</th>\n",
       "      <td>I love it! I just wish it tracked heart rate.</td>\n",
       "      <td>2018-04-27</td>\n",
       "      <td>True</td>\n",
       "      <td>0</td>\n",
       "      <td>/gp/profile/amzn1.account.AFXL66WCUVRXKMP44BDI...</td>\n",
       "      <td>5.0</td>\n",
       "      <td>B07BLWSBWK</td>\n",
       "    </tr>\n",
       "    <tr>\n",
       "      <th>52</th>\n",
       "      <td>love it!!! and it came superfast</td>\n",
       "      <td>2018-04-27</td>\n",
       "      <td>True</td>\n",
       "      <td>0</td>\n",
       "      <td>/gp/profile/amzn1.account.AGKCIQO4GUOM4F2LC3IW...</td>\n",
       "      <td>5.0</td>\n",
       "      <td>B07BLWSBWK</td>\n",
       "    </tr>\n",
       "    <tr>\n",
       "      <th>53</th>\n",
       "      <td>Love the color and works well!!</td>\n",
       "      <td>2018-04-27</td>\n",
       "      <td>True</td>\n",
       "      <td>0</td>\n",
       "      <td>/gp/profile/amzn1.account.AGDK45GMTWPQNAJT2RFZ...</td>\n",
       "      <td>5.0</td>\n",
       "      <td>B07BLWSBWK</td>\n",
       "    </tr>\n",
       "    <tr>\n",
       "      <th>54</th>\n",
       "      <td>Love this! I teach swimming and it works</td>\n",
       "      <td>2018-04-27</td>\n",
       "      <td>True</td>\n",
       "      <td>0</td>\n",
       "      <td>/gp/profile/amzn1.account.AGOYRJCMHPEAYZPGMODL...</td>\n",
       "      <td>5.0</td>\n",
       "      <td>B07BLWSBWK</td>\n",
       "    </tr>\n",
       "    <tr>\n",
       "      <th>55</th>\n",
       "      <td>Just be careful - doesn't track stairs.</td>\n",
       "      <td>2018-04-27</td>\n",
       "      <td>True</td>\n",
       "      <td>0</td>\n",
       "      <td>/gp/profile/amzn1.account.AFBZUFC5S75JKPU56KQL...</td>\n",
       "      <td>5.0</td>\n",
       "      <td>B07BLWSBWK</td>\n",
       "    </tr>\n",
       "    <tr>\n",
       "      <th>56</th>\n",
       "      <td>Bought for my daughter. She loves it!</td>\n",
       "      <td>2018-04-27</td>\n",
       "      <td>True</td>\n",
       "      <td>0</td>\n",
       "      <td>/gp/profile/amzn1.account.AH63KOOXVHOPL2WE4XLF...</td>\n",
       "      <td>5.0</td>\n",
       "      <td>B07BLWSBWK</td>\n",
       "    </tr>\n",
       "    <tr>\n",
       "      <th>57</th>\n",
       "      <td>Small and stylish! Works great!</td>\n",
       "      <td>2018-04-27</td>\n",
       "      <td>True</td>\n",
       "      <td>0</td>\n",
       "      <td>/gp/profile/amzn1.account.AGIMHEX7MVR4LCQS3EHY...</td>\n",
       "      <td>5.0</td>\n",
       "      <td>B07BLWSBWK</td>\n",
       "    </tr>\n",
       "    <tr>\n",
       "      <th>58</th>\n",
       "      <td>Just what I thought it was.</td>\n",
       "      <td>2018-04-27</td>\n",
       "      <td>True</td>\n",
       "      <td>0</td>\n",
       "      <td>/gp/profile/amzn1.account.AHFHVHHHVLQSQ3EDTZ3H...</td>\n",
       "      <td>5.0</td>\n",
       "      <td>B07BLWSBWK</td>\n",
       "    </tr>\n",
       "    <tr>\n",
       "      <th>59</th>\n",
       "      <td>ABSOLUTELY LOVE THIS!!!!!!!</td>\n",
       "      <td>2018-04-27</td>\n",
       "      <td>True</td>\n",
       "      <td>0</td>\n",
       "      <td>/gp/profile/amzn1.account.AEOASKYJRGZWIVBZVFJR...</td>\n",
       "      <td>5.0</td>\n",
       "      <td>B07BLWSBWK</td>\n",
       "    </tr>\n",
       "    <tr>\n",
       "      <th>60</th>\n",
       "      <td>Best Fitbit for my needs.</td>\n",
       "      <td>2018-04-27</td>\n",
       "      <td>True</td>\n",
       "      <td>0</td>\n",
       "      <td>/gp/profile/amzn1.account.AHARNFAN7RV3Y6MXRRT3...</td>\n",
       "      <td>5.0</td>\n",
       "      <td>B07BLWSBWK</td>\n",
       "    </tr>\n",
       "    <tr>\n",
       "      <th>61</th>\n",
       "      <td>Worked perfect</td>\n",
       "      <td>2018-04-27</td>\n",
       "      <td>True</td>\n",
       "      <td>0</td>\n",
       "      <td>/gp/profile/amzn1.account.AGNKAN6CACY3LEA5EEVZ...</td>\n",
       "      <td>5.0</td>\n",
       "      <td>B07BLWSBWK</td>\n",
       "    </tr>\n",
       "    <tr>\n",
       "      <th>62</th>\n",
       "      <td>Wonderfully!!!!!!!!!!</td>\n",
       "      <td>2018-04-27</td>\n",
       "      <td>True</td>\n",
       "      <td>0</td>\n",
       "      <td>/gp/profile/amzn1.account.AHDXUMD6J5BAR4UNE4ZH...</td>\n",
       "      <td>5.0</td>\n",
       "      <td>B07BLWSBWK</td>\n",
       "    </tr>\n",
       "    <tr>\n",
       "      <th>63</th>\n",
       "      <td>Color is beautiful</td>\n",
       "      <td>2018-04-27</td>\n",
       "      <td>True</td>\n",
       "      <td>0</td>\n",
       "      <td>/gp/profile/amzn1.account.AE7Y7PYI2YQ76IXOKOFM...</td>\n",
       "      <td>5.0</td>\n",
       "      <td>B07BLWSBWK</td>\n",
       "    </tr>\n",
       "    <tr>\n",
       "      <th>64</th>\n",
       "      <td>very good price</td>\n",
       "      <td>2018-04-27</td>\n",
       "      <td>True</td>\n",
       "      <td>0</td>\n",
       "      <td>/gp/profile/amzn1.account.AHDXUMD6J5BAR4UNE4ZH...</td>\n",
       "      <td>5.0</td>\n",
       "      <td>B07BLWSBWK</td>\n",
       "    </tr>\n",
       "    <tr>\n",
       "      <th>65</th>\n",
       "      <td>Great product</td>\n",
       "      <td>2018-04-28</td>\n",
       "      <td>True</td>\n",
       "      <td>0</td>\n",
       "      <td>/gp/profile/amzn1.account.AGBKOX4MZAJ2ADDKS7NR...</td>\n",
       "      <td>5.0</td>\n",
       "      <td>B07BLWSBWK</td>\n",
       "    </tr>\n",
       "    <tr>\n",
       "      <th>66</th>\n",
       "      <td>Mom loves it!</td>\n",
       "      <td>2018-04-27</td>\n",
       "      <td>True</td>\n",
       "      <td>0</td>\n",
       "      <td>/gp/profile/amzn1.account.AHARNFAN7RV3Y6MXRRT3...</td>\n",
       "      <td>5.0</td>\n",
       "      <td>B07BLWSBWK</td>\n",
       "    </tr>\n",
       "    <tr>\n",
       "      <th>67</th>\n",
       "      <td>Great band!</td>\n",
       "      <td>2018-04-27</td>\n",
       "      <td>True</td>\n",
       "      <td>0</td>\n",
       "      <td>/gp/profile/amzn1.account.AEMMCTOCBNI37V7NJPIT...</td>\n",
       "      <td>5.0</td>\n",
       "      <td>B07BLWSBWK</td>\n",
       "    </tr>\n",
       "    <tr>\n",
       "      <th>68</th>\n",
       "      <td>Love it! +</td>\n",
       "      <td>2018-04-27</td>\n",
       "      <td>True</td>\n",
       "      <td>0</td>\n",
       "      <td>/gp/profile/amzn1.account.AHFHVHHHVLQSQ3EDTZ3H...</td>\n",
       "      <td>5.0</td>\n",
       "      <td>B07BLWSBWK</td>\n",
       "    </tr>\n",
       "    <tr>\n",
       "      <th>69</th>\n",
       "      <td>Excelente</td>\n",
       "      <td>2018-04-27</td>\n",
       "      <td>True</td>\n",
       "      <td>0</td>\n",
       "      <td>/gp/profile/amzn1.account.AHRZMUCZLKWKSMXDXMF3...</td>\n",
       "      <td>5.0</td>\n",
       "      <td>B07BLWSBWK</td>\n",
       "    </tr>\n",
       "    <tr>\n",
       "      <th>70</th>\n",
       "      <td>See it every day! Works great!</td>\n",
       "      <td>2018-04-27</td>\n",
       "      <td>True</td>\n",
       "      <td>0</td>\n",
       "      <td>/gp/profile/amzn1.account.AF4DIVRDXN2UVRGAAW4J...</td>\n",
       "      <td>5.0</td>\n",
       "      <td>B07BLWSBWK</td>\n",
       "    </tr>\n",
       "    <tr>\n",
       "      <th>71</th>\n",
       "      <td>So far loving the Fitbit Flex 2. It's working ...</td>\n",
       "      <td>2018-04-27</td>\n",
       "      <td>True</td>\n",
       "      <td>0</td>\n",
       "      <td>/gp/profile/amzn1.account.AEOASKYJRGZWIVBZVFJR...</td>\n",
       "      <td>5.0</td>\n",
       "      <td>B07BLWSBWK</td>\n",
       "    </tr>\n",
       "    <tr>\n",
       "      <th>72</th>\n",
       "      <td>Since I've had 2 back surgeries, swimming is m...</td>\n",
       "      <td>2018-04-27</td>\n",
       "      <td>True</td>\n",
       "      <td>0</td>\n",
       "      <td>/gp/profile/amzn1.account.AEUZJEK5BEQPTUUZN6JB...</td>\n",
       "      <td>5.0</td>\n",
       "      <td>B07BLWSBWK</td>\n",
       "    </tr>\n",
       "    <tr>\n",
       "      <th>73</th>\n",
       "      <td>Got this for XMAS. I love every inch of it. It...</td>\n",
       "      <td>2018-04-27</td>\n",
       "      <td>True</td>\n",
       "      <td>0</td>\n",
       "      <td>/gp/profile/amzn1.account.AGDK45GMTWPQNAJT2RFZ...</td>\n",
       "      <td>5.0</td>\n",
       "      <td>B07BLWSBWK</td>\n",
       "    </tr>\n",
       "    <tr>\n",
       "      <th>74</th>\n",
       "      <td>I have enjoyed my Fitbit Flex 2 very much. The...</td>\n",
       "      <td>2018-04-27</td>\n",
       "      <td>True</td>\n",
       "      <td>0</td>\n",
       "      <td>/gp/profile/amzn1.account.AH63KOOXVHOPL2WE4XLF...</td>\n",
       "      <td>5.0</td>\n",
       "      <td>B07BLWSBWK</td>\n",
       "    </tr>\n",
       "    <tr>\n",
       "      <th>75</th>\n",
       "      <td>Been using this everyday since I bought it! ba...</td>\n",
       "      <td>2018-04-27</td>\n",
       "      <td>True</td>\n",
       "      <td>0</td>\n",
       "      <td>/gp/profile/amzn1.account.AE7Y7PYI2YQ76IXOKOFM...</td>\n",
       "      <td>5.0</td>\n",
       "      <td>B07BLWSBWK</td>\n",
       "    </tr>\n",
       "    <tr>\n",
       "      <th>76</th>\n",
       "      <td>I love the Flex 2. It works well for walking, ...</td>\n",
       "      <td>2018-04-28</td>\n",
       "      <td>True</td>\n",
       "      <td>0</td>\n",
       "      <td>/gp/profile/amzn1.account.AE2D3KIHXULLYFWFYKXP...</td>\n",
       "      <td>5.0</td>\n",
       "      <td>B07BLWSBWK</td>\n",
       "    </tr>\n",
       "    <tr>\n",
       "      <th>77</th>\n",
       "      <td>So far I love the Fibit Flex 2. Love that I ca...</td>\n",
       "      <td>2018-04-27</td>\n",
       "      <td>True</td>\n",
       "      <td>0</td>\n",
       "      <td>/gp/profile/amzn1.account.AHC2MWDAP6MIJIJXEXEE...</td>\n",
       "      <td>5.0</td>\n",
       "      <td>B07BLWSBWK</td>\n",
       "    </tr>\n",
       "    <tr>\n",
       "      <th>78</th>\n",
       "      <td>I really enjoy the new one. I had the original...</td>\n",
       "      <td>2018-04-27</td>\n",
       "      <td>False</td>\n",
       "      <td>0</td>\n",
       "      <td>/gp/profile/amzn1.account.AF4UMOBYTUUXBHHTTTY2...</td>\n",
       "      <td>5.0</td>\n",
       "      <td>B07BLWSBWK</td>\n",
       "    </tr>\n",
       "    <tr>\n",
       "      <th>79</th>\n",
       "      <td>Purchased this as a gift for my Girlfriend. It...</td>\n",
       "      <td>2018-04-27</td>\n",
       "      <td>False</td>\n",
       "      <td>0</td>\n",
       "      <td>/gp/profile/amzn1.account.AF4UMOBYTUUXBHHTTTY2...</td>\n",
       "      <td>5.0</td>\n",
       "      <td>B07BLWSBWK</td>\n",
       "    </tr>\n",
       "    <tr>\n",
       "      <th>80</th>\n",
       "      <td>Love my Flex 2. It's comfortable to wear and i...</td>\n",
       "      <td>2018-04-27</td>\n",
       "      <td>False</td>\n",
       "      <td>0</td>\n",
       "      <td>/gp/profile/amzn1.account.AF4UMOBYTUUXBHHTTTY2...</td>\n",
       "      <td>5.0</td>\n",
       "      <td>B07BLWSBWK</td>\n",
       "    </tr>\n",
       "  </tbody>\n",
       "</table>\n",
       "<p>81 rows × 7 columns</p>\n",
       "</div>"
      ],
      "text/plain": [
       "                                                 body date_posted  \\\n",
       "0   This item was a replacement for a Flex (1). I ...  2018-04-27   \n",
       "1   Love the minimalist band that is able to commu...  2018-04-27   \n",
       "2   Came in no time.. really amazing.. wasn't expe...  2018-04-27   \n",
       "3   I just love the fitbit 2 flex. It helps keep m...  2018-04-27   \n",
       "4   Love it. I wear it all the time to track my st...  2018-04-27   \n",
       "5   So much more accurate than counting steps on m...  2018-04-27   \n",
       "6   I loved it b/c I swim for exercise. Unfortunat...  2018-04-27   \n",
       "7   So far, this is exactly what I need. I've had ...  2018-04-27   \n",
       "8   Love this Fitbit! Arrived next day with my Ama...  2018-04-27   \n",
       "9   Amazing product and the fact I can track every...  2018-04-27   \n",
       "10  Love it. Its light I made a home made ankle ba...  2018-04-27   \n",
       "11  Love my new Fitbit flex 2! So much lighter and...  2018-04-27   \n",
       "12  My 18 year old daughter loves this fitbit 2. S...  2018-04-28   \n",
       "13  Love my Fitbit Flex 2. I love that I can go sw...  2018-04-27   \n",
       "14  The large band fits around my ankle. Have not ...  2018-04-27   \n",
       "15  This does everything you need. Does not bother...  2018-04-27   \n",
       "16  I started doing water aerobics, I can wear thi...  2018-04-27   \n",
       "17  Exactly what I wanted. Syncs easily to my phon...  2018-04-27   \n",
       "18  This paired perfectly with with my iPhone 6s t...  2018-04-27   \n",
       "19  works very well, it is slim and comfortable, s...  2018-04-27   \n",
       "20  I had the flex for about a year. I like this o...  2018-04-27   \n",
       "21  Love the color. Easy to attach. Will be orderi...  2018-04-27   \n",
       "22  Great hardware and software application. Howev...  2018-04-28   \n",
       "23  It's light and sleek! Never thought I would ge...  2018-04-27   \n",
       "24  Works great, love the apps and features to get...  2018-04-27   \n",
       "25                     Easy to use keeps me on track.  2018-04-28   \n",
       "26  My daughter loves this fitbit. She is tiny and...  2018-04-27   \n",
       "27  Love my Fitbit and it's accessories. Very easy...  2018-04-27   \n",
       "28                            Works great easy to use  2018-04-28   \n",
       "29  I use it and wear it everyday, it works well w...  2018-04-27   \n",
       "..                                                ...         ...   \n",
       "51      I love it! I just wish it tracked heart rate.  2018-04-27   \n",
       "52                   love it!!! and it came superfast  2018-04-27   \n",
       "53                    Love the color and works well!!  2018-04-27   \n",
       "54           Love this! I teach swimming and it works  2018-04-27   \n",
       "55            Just be careful - doesn't track stairs.  2018-04-27   \n",
       "56              Bought for my daughter. She loves it!  2018-04-27   \n",
       "57                    Small and stylish! Works great!  2018-04-27   \n",
       "58                        Just what I thought it was.  2018-04-27   \n",
       "59                        ABSOLUTELY LOVE THIS!!!!!!!  2018-04-27   \n",
       "60                          Best Fitbit for my needs.  2018-04-27   \n",
       "61                                     Worked perfect  2018-04-27   \n",
       "62                              Wonderfully!!!!!!!!!!  2018-04-27   \n",
       "63                                 Color is beautiful  2018-04-27   \n",
       "64                                    very good price  2018-04-27   \n",
       "65                                      Great product  2018-04-28   \n",
       "66                                      Mom loves it!  2018-04-27   \n",
       "67                                        Great band!  2018-04-27   \n",
       "68                                         Love it! +  2018-04-27   \n",
       "69                                          Excelente  2018-04-27   \n",
       "70                     See it every day! Works great!  2018-04-27   \n",
       "71  So far loving the Fitbit Flex 2. It's working ...  2018-04-27   \n",
       "72  Since I've had 2 back surgeries, swimming is m...  2018-04-27   \n",
       "73  Got this for XMAS. I love every inch of it. It...  2018-04-27   \n",
       "74  I have enjoyed my Fitbit Flex 2 very much. The...  2018-04-27   \n",
       "75  Been using this everyday since I bought it! ba...  2018-04-27   \n",
       "76  I love the Flex 2. It works well for walking, ...  2018-04-28   \n",
       "77  So far I love the Fibit Flex 2. Love that I ca...  2018-04-27   \n",
       "78  I really enjoy the new one. I had the original...  2018-04-27   \n",
       "79  Purchased this as a gift for my Girlfriend. It...  2018-04-27   \n",
       "80  Love my Flex 2. It's comfortable to wear and i...  2018-04-27   \n",
       "\n",
       "    is_verified  num_helpfuls  \\\n",
       "0          True             0   \n",
       "1          True             0   \n",
       "2          True             0   \n",
       "3          True             0   \n",
       "4          True             0   \n",
       "5          True             0   \n",
       "6          True             0   \n",
       "7          True             0   \n",
       "8          True             0   \n",
       "9          True             0   \n",
       "10         True             0   \n",
       "11         True             0   \n",
       "12         True             0   \n",
       "13         True             0   \n",
       "14         True             0   \n",
       "15         True             0   \n",
       "16         True             0   \n",
       "17         True             0   \n",
       "18         True             0   \n",
       "19         True             0   \n",
       "20         True             0   \n",
       "21         True             0   \n",
       "22         True             0   \n",
       "23         True             0   \n",
       "24         True             0   \n",
       "25         True             0   \n",
       "26         True             0   \n",
       "27         True             0   \n",
       "28         True             0   \n",
       "29         True             0   \n",
       "..          ...           ...   \n",
       "51         True             0   \n",
       "52         True             0   \n",
       "53         True             0   \n",
       "54         True             0   \n",
       "55         True             0   \n",
       "56         True             0   \n",
       "57         True             0   \n",
       "58         True             0   \n",
       "59         True             0   \n",
       "60         True             0   \n",
       "61         True             0   \n",
       "62         True             0   \n",
       "63         True             0   \n",
       "64         True             0   \n",
       "65         True             0   \n",
       "66         True             0   \n",
       "67         True             0   \n",
       "68         True             0   \n",
       "69         True             0   \n",
       "70         True             0   \n",
       "71         True             0   \n",
       "72         True             0   \n",
       "73         True             0   \n",
       "74         True             0   \n",
       "75         True             0   \n",
       "76         True             0   \n",
       "77         True             0   \n",
       "78        False             0   \n",
       "79        False             0   \n",
       "80        False             0   \n",
       "\n",
       "                                          profile_url  stars        asin  \n",
       "0   /gp/profile/amzn1.account.AFBZUFC5S75JKPU56KQL...    5.0  B07BLWSBWK  \n",
       "1   /gp/profile/amzn1.account.AGBDG4FYBNKK3CPLD7TJ...    5.0  B07BLWSBWK  \n",
       "2   /gp/profile/amzn1.account.AGKCIQO4GUOM4F2LC3IW...    5.0  B07BLWSBWK  \n",
       "3   /gp/profile/amzn1.account.AEMMCTOCBNI37V7NJPIT...    5.0  B07BLWSBWK  \n",
       "4   /gp/profile/amzn1.account.AHARNFAN7RV3Y6MXRRT3...    5.0  B07BLWSBWK  \n",
       "5   /gp/profile/amzn1.account.AF4DIVRDXN2UVRGAAW4J...    5.0  B07BLWSBWK  \n",
       "6   /gp/profile/amzn1.account.AF24536FRX6PKK7AS3W7...    5.0  B07BLWSBWK  \n",
       "7   /gp/profile/amzn1.account.AGBDG4FYBNKK3CPLD7TJ...    5.0  B07BLWSBWK  \n",
       "8   /gp/profile/amzn1.account.AE7Y7PYI2YQ76IXOKOFM...    5.0  B07BLWSBWK  \n",
       "9   /gp/profile/amzn1.account.AF24536FRX6PKK7AS3W7...    5.0  B07BLWSBWK  \n",
       "10  /gp/profile/amzn1.account.AFBZUFC5S75JKPU56KQL...    5.0  B07BLWSBWK  \n",
       "11  /gp/profile/amzn1.account.AH63KOOXVHOPL2WE4XLF...    5.0  B07BLWSBWK  \n",
       "12  /gp/profile/amzn1.account.AGBKOX4MZAJ2ADDKS7NR...    5.0  B07BLWSBWK  \n",
       "13  /gp/profile/amzn1.account.AEXO4BOH7AHJBXCTG56T...    5.0  B07BLWSBWK  \n",
       "14  /gp/profile/amzn1.account.AGIMHEX7MVR4LCQS3EHY...    5.0  B07BLWSBWK  \n",
       "15  /gp/profile/amzn1.account.AGNKAN6CACY3LEA5EEVZ...    5.0  B07BLWSBWK  \n",
       "16  /gp/profile/amzn1.account.AEUZJEK5BEQPTUUZN6JB...    5.0  B07BLWSBWK  \n",
       "17  /gp/profile/amzn1.account.AGC6N3EJWTCIGNJCSFMP...    5.0  B07BLWSBWK  \n",
       "18  /gp/profile/amzn1.account.AEMMCTOCBNI37V7NJPIT...    5.0  B07BLWSBWK  \n",
       "19  /gp/profile/amzn1.account.AGDK45GMTWPQNAJT2RFZ...    5.0  B07BLWSBWK  \n",
       "20  /gp/profile/amzn1.account.AFXL66WCUVRXKMP44BDI...    5.0  B07BLWSBWK  \n",
       "21  /gp/profile/amzn1.account.AGIMHEX7MVR4LCQS3EHY...    5.0  B07BLWSBWK  \n",
       "22  /gp/profile/amzn1.account.AGBKOX4MZAJ2ADDKS7NR...    5.0  B07BLWSBWK  \n",
       "23  /gp/profile/amzn1.account.AGYNTKDJULW2L2APONBU...    5.0  B07BLWSBWK  \n",
       "24  /gp/profile/amzn1.account.AEXO4BOH7AHJBXCTG56T...    5.0  B07BLWSBWK  \n",
       "25  /gp/profile/amzn1.account.AE2D3KIHXULLYFWFYKXP...    5.0  B07BLWSBWK  \n",
       "26  /gp/profile/amzn1.account.AHRZMUCZLKWKSMXDXMF3...    5.0  B07BLWSBWK  \n",
       "27  /gp/profile/amzn1.account.AGYNTKDJULW2L2APONBU...    5.0  B07BLWSBWK  \n",
       "28  /gp/profile/amzn1.account.AE2D3KIHXULLYFWFYKXP...    5.0  B07BLWSBWK  \n",
       "29  /gp/profile/amzn1.account.AEDEDGJCQ3EIBBR3KHLE...    5.0  B07BLWSBWK  \n",
       "..                                                ...    ...         ...  \n",
       "51  /gp/profile/amzn1.account.AFXL66WCUVRXKMP44BDI...    5.0  B07BLWSBWK  \n",
       "52  /gp/profile/amzn1.account.AGKCIQO4GUOM4F2LC3IW...    5.0  B07BLWSBWK  \n",
       "53  /gp/profile/amzn1.account.AGDK45GMTWPQNAJT2RFZ...    5.0  B07BLWSBWK  \n",
       "54  /gp/profile/amzn1.account.AGOYRJCMHPEAYZPGMODL...    5.0  B07BLWSBWK  \n",
       "55  /gp/profile/amzn1.account.AFBZUFC5S75JKPU56KQL...    5.0  B07BLWSBWK  \n",
       "56  /gp/profile/amzn1.account.AH63KOOXVHOPL2WE4XLF...    5.0  B07BLWSBWK  \n",
       "57  /gp/profile/amzn1.account.AGIMHEX7MVR4LCQS3EHY...    5.0  B07BLWSBWK  \n",
       "58  /gp/profile/amzn1.account.AHFHVHHHVLQSQ3EDTZ3H...    5.0  B07BLWSBWK  \n",
       "59  /gp/profile/amzn1.account.AEOASKYJRGZWIVBZVFJR...    5.0  B07BLWSBWK  \n",
       "60  /gp/profile/amzn1.account.AHARNFAN7RV3Y6MXRRT3...    5.0  B07BLWSBWK  \n",
       "61  /gp/profile/amzn1.account.AGNKAN6CACY3LEA5EEVZ...    5.0  B07BLWSBWK  \n",
       "62  /gp/profile/amzn1.account.AHDXUMD6J5BAR4UNE4ZH...    5.0  B07BLWSBWK  \n",
       "63  /gp/profile/amzn1.account.AE7Y7PYI2YQ76IXOKOFM...    5.0  B07BLWSBWK  \n",
       "64  /gp/profile/amzn1.account.AHDXUMD6J5BAR4UNE4ZH...    5.0  B07BLWSBWK  \n",
       "65  /gp/profile/amzn1.account.AGBKOX4MZAJ2ADDKS7NR...    5.0  B07BLWSBWK  \n",
       "66  /gp/profile/amzn1.account.AHARNFAN7RV3Y6MXRRT3...    5.0  B07BLWSBWK  \n",
       "67  /gp/profile/amzn1.account.AEMMCTOCBNI37V7NJPIT...    5.0  B07BLWSBWK  \n",
       "68  /gp/profile/amzn1.account.AHFHVHHHVLQSQ3EDTZ3H...    5.0  B07BLWSBWK  \n",
       "69  /gp/profile/amzn1.account.AHRZMUCZLKWKSMXDXMF3...    5.0  B07BLWSBWK  \n",
       "70  /gp/profile/amzn1.account.AF4DIVRDXN2UVRGAAW4J...    5.0  B07BLWSBWK  \n",
       "71  /gp/profile/amzn1.account.AEOASKYJRGZWIVBZVFJR...    5.0  B07BLWSBWK  \n",
       "72  /gp/profile/amzn1.account.AEUZJEK5BEQPTUUZN6JB...    5.0  B07BLWSBWK  \n",
       "73  /gp/profile/amzn1.account.AGDK45GMTWPQNAJT2RFZ...    5.0  B07BLWSBWK  \n",
       "74  /gp/profile/amzn1.account.AH63KOOXVHOPL2WE4XLF...    5.0  B07BLWSBWK  \n",
       "75  /gp/profile/amzn1.account.AE7Y7PYI2YQ76IXOKOFM...    5.0  B07BLWSBWK  \n",
       "76  /gp/profile/amzn1.account.AE2D3KIHXULLYFWFYKXP...    5.0  B07BLWSBWK  \n",
       "77  /gp/profile/amzn1.account.AHC2MWDAP6MIJIJXEXEE...    5.0  B07BLWSBWK  \n",
       "78  /gp/profile/amzn1.account.AF4UMOBYTUUXBHHTTTY2...    5.0  B07BLWSBWK  \n",
       "79  /gp/profile/amzn1.account.AF4UMOBYTUUXBHHTTTY2...    5.0  B07BLWSBWK  \n",
       "80  /gp/profile/amzn1.account.AF4UMOBYTUUXBHHTTTY2...    5.0  B07BLWSBWK  \n",
       "\n",
       "[81 rows x 7 columns]"
      ]
     },
     "execution_count": 170,
     "metadata": {},
     "output_type": "execute_result"
    }
   ],
   "source": [
    "rev_df"
   ]
  },
  {
   "cell_type": "code",
   "execution_count": null,
   "metadata": {
    "scrolled": true
   },
   "outputs": [],
   "source": [
    "rev_df, prof_df = load_all_data()\n",
    "rev_df['infected'] = 0\n",
    "prof_df['infected'] = 0\n",
    "rev_df.set_index('asin', inplace=True)\n",
    "rev_df.loc['B076Z8GLWY']['infected'] = 1\n",
    "rev_df_0 = rev_df.loc['B076Z8GLWY']\n",
    "prof_df_0 "
   ]
  },
  {
   "cell_type": "code",
   "execution_count": null,
   "metadata": {},
   "outputs": [],
   "source": [
    "prof_df[prof_df.asin == 'B076Z8GLWY']"
   ]
  },
  {
   "cell_type": "code",
   "execution_count": null,
   "metadata": {},
   "outputs": [],
   "source": [
    "prof_df[prof_df['profile_name'] == 'Carol Perez']"
   ]
  },
  {
   "cell_type": "code",
   "execution_count": null,
   "metadata": {},
   "outputs": [],
   "source": [
    "prof_df.profile_id.value_counts()"
   ]
  },
  {
   "cell_type": "code",
   "execution_count": null,
   "metadata": {},
   "outputs": [],
   "source": [
    "batch_profile_features(prof_df)"
   ]
  },
  {
   "cell_type": "code",
   "execution_count": null,
   "metadata": {},
   "outputs": [],
   "source": [
    "prof_df.profile_id.value_counts()"
   ]
  },
  {
   "cell_type": "code",
   "execution_count": null,
   "metadata": {},
   "outputs": [],
   "source": [
    "rev_df.helpful_ratio"
   ]
  },
  {
   "cell_type": "code",
   "execution_count": null,
   "metadata": {},
   "outputs": [],
   "source": [
    "process_asin_features(rev_df, 'B076Z8GLWY').loc['B076Z8GLWY']"
   ]
  },
  {
   "cell_type": "code",
   "execution_count": null,
   "metadata": {},
   "outputs": [],
   "source": [
    "rev_df['infected'] = 0\n",
    "prof_df['infected'] = 0\n",
    "rev_df.set_index('asin', inplace=True)\n",
    "rev_df.loc['B076Z8GLWY']['infected'] = 1\n",
    "prof_df.set_index('asin', inplace=True)\n",
    "prof_df.loc['B076Z8GLWY']['infected'] = 1"
   ]
  },
  {
   "cell_type": "code",
   "execution_count": null,
   "metadata": {},
   "outputs": [],
   "source": [
    "rev_df.profile_url.value_counts().index[:20]"
   ]
  },
  {
   "cell_type": "code",
   "execution_count": null,
   "metadata": {},
   "outputs": [],
   "source": [
    "rev_df.shape"
   ]
  },
  {
   "cell_type": "code",
   "execution_count": null,
   "metadata": {},
   "outputs": [],
   "source": [
    "rev_df.loc[prof_df.index].shape"
   ]
  },
  {
   "cell_type": "code",
   "execution_count": null,
   "metadata": {},
   "outputs": [],
   "source": [
    "rev_df.loc['B076Z8GLWY']"
   ]
  },
  {
   "cell_type": "code",
   "execution_count": null,
   "metadata": {},
   "outputs": [],
   "source": [
    "prof_df.profile_id.unique().shape"
   ]
  },
  {
   "cell_type": "code",
   "execution_count": null,
   "metadata": {},
   "outputs": [],
   "source": [
    "prof_df.shape"
   ]
  },
  {
   "cell_type": "code",
   "execution_count": null,
   "metadata": {},
   "outputs": [],
   "source": [
    "rev_df.asin.value_counts()"
   ]
  },
  {
   "cell_type": "code",
   "execution_count": null,
   "metadata": {},
   "outputs": [],
   "source": [
    "asin1 = 'B0756YXM7H'\n",
    "asin2 = 'B079DQJCWQ'\n",
    "asin3 = 'B075V14MGM'\n",
    "get_helpful_ratio(rev_df, asin1)"
   ]
  },
  {
   "cell_type": "code",
   "execution_count": null,
   "metadata": {},
   "outputs": [],
   "source": [
    "get_num_callouts(rev_df, asin1)"
   ]
  },
  {
   "cell_type": "code",
   "execution_count": null,
   "metadata": {},
   "outputs": [],
   "source": [
    "get_helpful_ratio(rev_df, asin2)"
   ]
  },
  {
   "cell_type": "code",
   "execution_count": null,
   "metadata": {},
   "outputs": [],
   "source": [
    "rdf = rev_df[rev_df.asin == asin2]\n",
    "rdf = rdf[rdf.stars <= 2]\n",
    "print('\\n'.join(rdf.body.values))"
   ]
  },
  {
   "cell_type": "code",
   "execution_count": null,
   "metadata": {},
   "outputs": [],
   "source": [
    "get_num_callouts(rev_df, asin2)"
   ]
  },
  {
   "cell_type": "code",
   "execution_count": null,
   "metadata": {},
   "outputs": [],
   "source": [
    "profile_id1 = 'AE4CTXTBIWWV2W22O7MBFDTFTQEQ'\n",
    "profile_id2 = 'AFVSSQNCP4TJME43JJ5W2IDHP57A'\n",
    "get_star_ratio(prof_df, profile_id1)"
   ]
  },
  {
   "cell_type": "code",
   "execution_count": null,
   "metadata": {},
   "outputs": [],
   "source": [
    "get_star_ratio(prof_df, profile_id2)"
   ]
  },
  {
   "cell_type": "code",
   "execution_count": null,
   "metadata": {},
   "outputs": [],
   "source": [
    "get_burstiness(prof_df, profile_id=profile_id1)"
   ]
  },
  {
   "cell_type": "code",
   "execution_count": null,
   "metadata": {},
   "outputs": [],
   "source": [
    "get_burstiness(prof_df, profile_id=profile_id2)"
   ]
  },
  {
   "cell_type": "code",
   "execution_count": null,
   "metadata": {},
   "outputs": [],
   "source": [
    "get_rel_burstiness(prof_df, profile_id1=profile_id1, profile_id2=profile_id2)"
   ]
  },
  {
   "cell_type": "code",
   "execution_count": null,
   "metadata": {},
   "outputs": [],
   "source": [
    "get_time_stats(prof_df, profile_id1, profile_id2)"
   ]
  }
 ],
 "metadata": {
  "celltoolbar": "Initialization Cell",
  "kernelspec": {
   "display_name": "Python 3",
   "language": "python",
   "name": "python3"
  },
  "language_info": {
   "codemirror_mode": {
    "name": "ipython",
    "version": 3
   },
   "file_extension": ".py",
   "mimetype": "text/x-python",
   "name": "python",
   "nbconvert_exporter": "python",
   "pygments_lexer": "ipython3",
   "version": "3.6.4"
  }
 },
 "nbformat": 4,
 "nbformat_minor": 2
}
